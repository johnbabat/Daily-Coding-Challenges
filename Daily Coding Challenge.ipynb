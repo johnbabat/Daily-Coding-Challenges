{
 "cells": [
  {
   "cell_type": "markdown",
   "metadata": {},
   "source": [
    "### Daily Coding Problem: Problem #1 [Easy]\n",
    "\n",
    "This problem was recently asked by Google.\n",
    "\n",
    "Given a list of numbers and a number k, return whether any two numbers from the list add up to k.\n",
    "\n",
    "For example, given [10, 15, 3, 7] and k of 17, return true since 10 + 7 is 17.\n",
    "\n",
    "Bonus: Can you do this in one pass?"
   ]
  },
  {
   "cell_type": "code",
   "execution_count": 1,
   "metadata": {},
   "outputs": [],
   "source": [
    "def twoSum(nums, k):\n",
    "    store = set()\n",
    "    for num in nums:\n",
    "        if k-num in store: return True\n",
    "        store.add(num)\n",
    "    return False"
   ]
  },
  {
   "cell_type": "code",
   "execution_count": 2,
   "metadata": {},
   "outputs": [
    {
     "data": {
      "text/plain": [
       "True"
      ]
     },
     "execution_count": 2,
     "metadata": {},
     "output_type": "execute_result"
    }
   ],
   "source": [
    "# Test Code\n",
    "\n",
    "nums, k = [10, 15, 3, 7], 17\n",
    "\n",
    "twoSum(nums, k)"
   ]
  },
  {
   "cell_type": "markdown",
   "metadata": {},
   "source": [
    "### Daily Coding Problem: Problem #2 [Hard]\n",
    "\n",
    "This problem was asked by Uber.\n",
    "\n",
    "Given an array of integers, return a new array such that each element at index i of the new array is the product of all the numbers in the original array except the one at i.\n",
    "\n",
    "For example, if our input was [1, 2, 3, 4, 5], the expected output would be [120, 60, 40, 30, 24]. If our input was [3, 2, 1], the expected output would be [2, 3, 6].\n",
    "\n",
    "Follow-up: what if you can't use division?"
   ]
  },
  {
   "cell_type": "code",
   "execution_count": 80,
   "metadata": {},
   "outputs": [],
   "source": [
    "def productExceptSelf(nums):\n",
    "    if not nums: return []\n",
    "    if len(nums) == 1: return [0]\n",
    "    prodNums = nums[:]\n",
    "    for i in range(1, len(nums)):\n",
    "        prodNums[i] *= prodNums[i-1]\n",
    "\n",
    "    start = 1\n",
    "    for i in range(len(nums)-1, 0, -1):\n",
    "        val = nums[i]\n",
    "        nums[i] = start * prodNums[i-1]\n",
    "        start *= val\n",
    "    nums[0] = start\n",
    "    return nums"
   ]
  },
  {
   "cell_type": "code",
   "execution_count": 81,
   "metadata": {},
   "outputs": [
    {
     "data": {
      "text/plain": [
       "[120, 60, 40, 30, 24]"
      ]
     },
     "execution_count": 81,
     "metadata": {},
     "output_type": "execute_result"
    }
   ],
   "source": [
    "productExceptSelf([1,2,3,4,5])"
   ]
  },
  {
   "cell_type": "code",
   "execution_count": null,
   "metadata": {},
   "outputs": [],
   "source": []
  },
  {
   "cell_type": "code",
   "execution_count": null,
   "metadata": {},
   "outputs": [],
   "source": []
  },
  {
   "cell_type": "code",
   "execution_count": null,
   "metadata": {},
   "outputs": [],
   "source": []
  },
  {
   "cell_type": "markdown",
   "metadata": {},
   "source": [
    "### Daily Coding Problem: Problem #122 [Medium]\n",
    "\n",
    "This question was asked by Zillow.\n",
    "\n",
    "You are given a 2-d matrix where each cell represents number of coins in that cell. Assuming we start at matrix[0][0], and can only move right or down, find the maximum number of coins you can collect by the bottom right corner.\n",
    "\n",
    "For example, in this matrix\n",
    "\n"
   ]
  },
  {
   "cell_type": "markdown",
   "metadata": {},
   "source": [
    "    0 3 1 1\n",
    "    2 0 0 4\n",
    "    1 5 3 1 "
   ]
  },
  {
   "cell_type": "markdown",
   "metadata": {},
   "source": [
    "The most we can collect is 0 + 2 + 1 + 5 + 3 + 1 = 12 coins."
   ]
  },
  {
   "cell_type": "code",
   "execution_count": 16,
   "metadata": {},
   "outputs": [],
   "source": [
    "# The approach is to replace each cell with the sum of the the value of the cell and the maximum of the top and left cell.\n",
    "# The matrix would have the macimum path at the bottom right\n",
    "\n",
    "def max_coins(matrix):\n",
    "    \n",
    "    # Iterate through the matrix\n",
    "    for i in range(len(matrix)):\n",
    "        for j in range(len(matrix[0])):\n",
    "            # Ignore the first element is the matrix\n",
    "            if i == 0 and j == 0:\n",
    "                pass\n",
    "            # If it as an element at the top border (i.e i = 0)\n",
    "            elif i == 0:\n",
    "                # Replace the value there with the sum of itself and previous value on that row\n",
    "                matrix[i][j] += matrix[i][j-1]\n",
    "            # else if it as an element at the left border (i.e j = 0)\n",
    "            elif j == 0:\n",
    "                # Replace the value there with the sum of itself and previous value on that column\n",
    "                matrix[i][j] += matrix[i-1][j]\n",
    "            # for other elements in the matrix\n",
    "            else:\n",
    "                # replace their values with the sum of itself and the larger value between the previous row and previous column\n",
    "                matrix[i][j] += max(matrix[i-1][j], matrix[i][j-1])\n",
    "    return matrix[-1][-1]"
   ]
  },
  {
   "cell_type": "code",
   "execution_count": 17,
   "metadata": {},
   "outputs": [
    {
     "data": {
      "text/plain": [
       "12"
      ]
     },
     "execution_count": 17,
     "metadata": {},
     "output_type": "execute_result"
    }
   ],
   "source": [
    "# TEST CODE\n",
    "\n",
    "mat = [[0,3,1,1], [2,0,0,4], [1,5,3,1]]\n",
    "max_coins(mat)"
   ]
  },
  {
   "cell_type": "markdown",
   "metadata": {},
   "source": [
    "### Daily Coding Problem: Problem #123 [Hard]\n",
    "\n",
    "This problem was asked by LinkedIn.\n",
    "\n",
    "Given a string, return whether it represents a number. Here are the different kinds of numbers:\n",
    "\n",
    "- \"10\", a positive integer\n",
    "- \"-10\", a negative integer\n",
    "- \"10.1\", a positive real number\n",
    "- \"-10.1\", a negative real number\n",
    "- \"1e5\", a number in scientific notation\n",
    "\n",
    "And here are examples of non-numbers:\n",
    "\n",
    "- \"a\"\n",
    "- \"x 1\"\n",
    "- \"a -2\"\n",
    "- \"-\""
   ]
  },
  {
   "cell_type": "code",
   "execution_count": 16,
   "metadata": {},
   "outputs": [],
   "source": [
    "#    The approach I took is to check if the string is a floating, if not check if it's an integer\n",
    "#    if it is any of the above return 'is a number' else return 'is NOT a number'\n",
    "\n",
    "def number_or_not(string):\n",
    "    try: float(string)\n",
    "    except:\n",
    "        try: int(string)\n",
    "        except: return False\n",
    "    return True"
   ]
  },
  {
   "cell_type": "code",
   "execution_count": 22,
   "metadata": {},
   "outputs": [],
   "source": [
    "# An Alternate approach would be to use regular expressions\n",
    "\n",
    "import re\n",
    "def number_or_not(string):\n",
    "    return re.match('^(\\s+)?[+-]?((\\d+(\\.)?|\\.\\d+)(\\d+)?(e[-+]?\\d+)?(\\s+)?)$', string) is not None"
   ]
  },
  {
   "cell_type": "code",
   "execution_count": 23,
   "metadata": {},
   "outputs": [
    {
     "name": "stdout",
     "output_type": "stream",
     "text": [
      "10 True\n",
      "-10 True\n",
      "10.1 True\n",
      "-10.1 True\n",
      "1e5 True\n",
      "a False\n",
      "x 1 False\n",
      "a -2 False\n",
      "- False\n",
      "0 True\n"
     ]
    }
   ],
   "source": [
    "# TEST CODE\n",
    "\n",
    "print(\"10\", number_or_not(\"10\"))\n",
    "print(\"-10\", number_or_not(\"-10\"))\n",
    "print(\"10.1\", number_or_not(\"10.1\"))\n",
    "print(\"-10.1\", number_or_not(\"-10.1\"))\n",
    "print(\"1e5\", number_or_not(\"1e5\"))\n",
    "print(\"a\", number_or_not(\"a\"))\n",
    "print(\"x 1\", number_or_not(\"x 1\"))\n",
    "print(\"a -2\", number_or_not(\"a -2\"))\n",
    "print(\"-\", number_or_not(\"-\"))\n",
    "print(\"0\", number_or_not(\"0\"))"
   ]
  },
  {
   "cell_type": "markdown",
   "metadata": {},
   "source": [
    "### Daily Coding Problem: Problem #124 [Easy]\n",
    "\n",
    "This problem was asked by Microsoft.\n",
    "\n",
    "You have n fair coins and you flip them all at the same time. Any that come up tails you set aside. The ones that come up heads you flip again. How many rounds do you expect to play before only one coin remains?\n",
    "\n",
    "Write a function that, given n, returns the number of rounds you'd expect to play until one coin remains."
   ]
  },
  {
   "cell_type": "code",
   "execution_count": 5,
   "metadata": {},
   "outputs": [],
   "source": [
    "#    My approach is to multiply the number of coins by 0.5 everytime I flip\n",
    "#    since there's a 50% probability. Then I increment number of flips by 1 each time\n",
    "\n",
    "def number_of_flips(n):\n",
    "    total_flips = 0\n",
    "    while n >= 2:\n",
    "        n = n*0.5\n",
    "        total_flips+=1\n",
    "    return total_flips"
   ]
  },
  {
   "cell_type": "code",
   "execution_count": 6,
   "metadata": {},
   "outputs": [
    {
     "data": {
      "text/plain": [
       "3"
      ]
     },
     "execution_count": 6,
     "metadata": {},
     "output_type": "execute_result"
    }
   ],
   "source": [
    "# TEST CODE\n",
    "\n",
    "number_of_flips(9)"
   ]
  },
  {
   "cell_type": "code",
   "execution_count": null,
   "metadata": {},
   "outputs": [],
   "source": []
  },
  {
   "cell_type": "code",
   "execution_count": null,
   "metadata": {},
   "outputs": [],
   "source": []
  },
  {
   "cell_type": "code",
   "execution_count": null,
   "metadata": {},
   "outputs": [],
   "source": []
  },
  {
   "cell_type": "markdown",
   "metadata": {},
   "source": [
    "### Daily Coding Problem: Problem #127 [Easy]\n",
    "\n",
    "This problem was asked by Microsoft.\n",
    "\n",
    "Let's represent an integer in a linked list format by having each node represent a digit in the number. The nodes make up the number in reversed order.\n",
    "\n",
    "For example, the following linked list:\n",
    "\n",
    "1 -> 2 -> 3 -> 4 -> 5\n",
    "\n",
    "is the number 54321.\n",
    "\n",
    "Given two linked lists in this format, return their sum in the same linked list format.\n",
    "\n",
    "For example, given\n",
    "\n",
    "9 -> 9\n",
    "\n",
    "5 -> 2\n",
    "\n",
    "return 124 (99 + 25) as:\n",
    "\n",
    "4 -> 2 -> 1"
   ]
  },
  {
   "cell_type": "code",
   "execution_count": 7,
   "metadata": {},
   "outputs": [],
   "source": [
    "def sumlist(list1, list2):\n",
    "    int1 = list1.value\n",
    "    int2 = list2.value\n",
    "    \n",
    "    # Convert the linked lists to integers\n",
    "    while list1.next != None:\n",
    "        int1 = (10 * int1) + list1.next.value\n",
    "        list1 = list1.next\n",
    "    while list2.next != None:\n",
    "        int2 = (10 * int2) + list2.next.value\n",
    "        list2 = list2.next\n",
    "        \n",
    "    int3 = int1+int2\n",
    "    \n",
    "    list3 = Node(int3 % 10)\n",
    "    int3 = int3 // 10\n",
    "    \n",
    "    currentnode = list3\n",
    "    \n",
    "    # Create a loop and take the last value of the integer by using modulo 10 to create a reversed linked list\n",
    "    while int3 > 0:\n",
    "        currentnode.next = Node(int3 % 10)\n",
    "        int3 = int3 // 10\n",
    "        currentnode = currentnode.next\n",
    "    \n",
    "    #Print out list\n",
    "    current = list3\n",
    "    while current is not None:\n",
    "        if current.next is None:\n",
    "            print(current.value)\n",
    "        else:\n",
    "            print(current.value, end=' --> ')\n",
    "        current = current.next\n",
    "    return"
   ]
  },
  {
   "cell_type": "code",
   "execution_count": 8,
   "metadata": {},
   "outputs": [
    {
     "name": "stdout",
     "output_type": "stream",
     "text": [
      "4 --> 2 --> 1\n"
     ]
    }
   ],
   "source": [
    "# TEST CODE\n",
    "\n",
    "class Node:\n",
    "    def __init__(self, value):\n",
    "        self.value = value\n",
    "        self.next = None\n",
    "\n",
    "a = Node(9)\n",
    "a.next = Node(9)\n",
    "\n",
    "b = Node(2)\n",
    "b.next = Node(5)\n",
    "\n",
    "sumlist(a,b)"
   ]
  },
  {
   "cell_type": "code",
   "execution_count": null,
   "metadata": {},
   "outputs": [],
   "source": []
  },
  {
   "cell_type": "code",
   "execution_count": null,
   "metadata": {},
   "outputs": [],
   "source": []
  },
  {
   "cell_type": "markdown",
   "metadata": {},
   "source": [
    "### Daily Coding Problem: Problem #129 [Medium]\n",
    "\n",
    "Good morning! Here's your coding interview problem for today.\n",
    "\n",
    "Given a real number n, find the square root of n. For example, given n = 9, return 3"
   ]
  },
  {
   "cell_type": "code",
   "execution_count": 18,
   "metadata": {},
   "outputs": [],
   "source": [
    "def sqr_root(n):\n",
    "    # Iterate from 1 to the n\n",
    "    for i in range(round(n)):\n",
    "        # Compute the squares and stop if it equals n, and return it\n",
    "        if i*i == n:\n",
    "            return i\n",
    "        # else if the square is gretaer than n, start a sqr_check with the current and previous values\n",
    "        elif i*i > n:\n",
    "            return sqr_check(i, i-1, n)\n",
    "        \n",
    "def sqr_check(low, high, n):\n",
    "    # Mid is equal to the center of low and high, then find the sqaure of mid\n",
    "    mid = (low + high) / 2\n",
    "    sqr = mid*mid\n",
    "    \n",
    "    # Base case\n",
    "    # Return sqr if it is equal to n or if it's correct to 5 decimal places\n",
    "    if sqr == n or abs(sqr-n) < 0.00001:\n",
    "        return mid\n",
    "    \n",
    "    # If square is greater than n, recursively run sqr_check with the mid replacing high\n",
    "    elif sqr > n:\n",
    "        return sqr_check(mid, high, n)\n",
    "    # else if square is greater than n, recursively run sqr_check with the mid replacing low\n",
    "    else:\n",
    "        return sqr_check(low, mid, n)"
   ]
  },
  {
   "cell_type": "code",
   "execution_count": 21,
   "metadata": {},
   "outputs": [
    {
     "data": {
      "text/plain": [
       "3"
      ]
     },
     "execution_count": 21,
     "metadata": {},
     "output_type": "execute_result"
    }
   ],
   "source": [
    "# Test Code\n",
    "\n",
    "sqr_root(9)"
   ]
  },
  {
   "cell_type": "markdown",
   "metadata": {},
   "source": [
    "### Daily Coding Problem: Problem #130 [Medium]\n",
    "\n",
    "This problem was asked by Facebook.\n",
    "\n",
    "Given an array of numbers representing the stock prices of a company in chronological order and an integer k, return the maximum profit you can make from k buys and sells. You must buy the stock before you can sell it, and you must sell the stock before you can buy it again.\n",
    "\n",
    "For example, given k = 2 and the array [5, 2, 4, 0, 1], you should return 3."
   ]
  },
  {
   "cell_type": "code",
   "execution_count": 9,
   "metadata": {},
   "outputs": [],
   "source": [
    "#    The approach I took is to start from the begining of the list,initialize profit as 0, save the current index value and move to the next item whenever the next item is less than the current otherwise, switch the saved index value to the current and add the difference between the diifference between current and next to the total profit before moving to the next item again.\n",
    "\n",
    "def max_profit(arr):\n",
    "    profit = 0\n",
    "    i = 0\n",
    "    \n",
    "    while i < len(arr)-1:\n",
    "        current = arr[0]\n",
    "        if arr[i+1] < arr[i]:\n",
    "            i += 1\n",
    "        else:\n",
    "            current = arr[i]\n",
    "            profit += (arr[i+1] - arr[i])\n",
    "            i += 1\n",
    "    return profit"
   ]
  },
  {
   "cell_type": "code",
   "execution_count": 10,
   "metadata": {},
   "outputs": [
    {
     "data": {
      "text/plain": [
       "3"
      ]
     },
     "execution_count": 10,
     "metadata": {},
     "output_type": "execute_result"
    }
   ],
   "source": [
    "# TEST CODE\n",
    "\n",
    "max_profit([5,2,4,0,1])"
   ]
  },
  {
   "cell_type": "markdown",
   "metadata": {},
   "source": [
    "### Daily Coding Problem: Problem #131 [Medium]\n",
    "\n",
    "This question was asked by Snapchat.\n",
    "\n",
    "Given the head to a singly linked list, where each node also has a “random” pointer that points to anywhere in the linked list, deep clone the list."
   ]
  },
  {
   "cell_type": "code",
   "execution_count": 11,
   "metadata": {},
   "outputs": [],
   "source": [
    "def deep_clone(listhead):\n",
    "    clone = Node(listhead.value)\n",
    "    \n",
    "    current = listhead\n",
    "    current2 = clone\n",
    "    \n",
    "    # Place a copy of every node between itself and the next node    \n",
    "    while current.next != None:\n",
    "        nextval = current.next\n",
    "        current2.next = nextval\n",
    "        current.next = current2\n",
    "        current2 = Node(nextval.value)\n",
    "        current = nextval\n",
    "    current.next = current2\n",
    "    \n",
    "    current = listhead\n",
    "    current2 = clone\n",
    "    \n",
    "    # Assign the random pointer of the newly placed node to the next pointer after the random pointer of the preceeding node\n",
    "    while current2.next != None:\n",
    "        current2.random = current.random.next\n",
    "        current2 = current2.next.next\n",
    "        current = current.next.next\n",
    "    \n",
    "    current = listhead\n",
    "    current2 = clone\n",
    "    \n",
    "    # Break the link between node and copy and separte them fully into two separate lists    \n",
    "    while current2.next != None:\n",
    "        current.next = current.next.next\n",
    "        current2.next = current2.next.next\n",
    "        \n",
    "        current = current.next\n",
    "        current2 = current2.next\n",
    "    current.next = None\n",
    "    \n",
    "    return clone"
   ]
  },
  {
   "cell_type": "markdown",
   "metadata": {},
   "source": [
    "### Daily Coding Problem: Problem #132 [Easy]\n",
    "\n",
    "This question was asked by Riot Games.\n",
    "\n",
    "Design and implement a HitCounter class that keeps track of requests (or hits). It should support the following operations:\n",
    "\n",
    "- record(timestamp): records a hit that happened at timestamp\n",
    "\n",
    "- total(): returns the total number of hits recorded\n",
    "\n",
    "- range(lower, upper): returns the number of hits that occurred between timestamps lower and upper (inclusive)\n",
    "\n",
    "Follow-up: What if our system has limited memory?"
   ]
  },
  {
   "cell_type": "code",
   "execution_count": 12,
   "metadata": {},
   "outputs": [],
   "source": [
    "#    The hit counter stores appends each record in a list, the total is gotten as the length of the list while the range is the difference in index values between two timestamps\n",
    "\n",
    "class HitCounter:\n",
    "    def __init__(self):\n",
    "        self.hits = []\n",
    "        \n",
    "    def record(self, timestamp):\n",
    "        self.hits.append(timestamp)\n",
    "    \n",
    "    def total(self):\n",
    "        return len(self.hits)\n",
    "    \n",
    "    def range(self, lower, upper):\n",
    "        return self.hits.index(upper) - self.hits.index(lower)"
   ]
  },
  {
   "cell_type": "markdown",
   "metadata": {},
   "source": [
    "### Daily Coding Problem: Problem #133 [Medium]\n",
    "\n",
    "This problem was asked by Amazon.\n",
    "\n",
    "Given a node in a binary search tree, return the next bigger element, also known as the inorder successor.\n",
    "\n",
    "For example, the inorder successor of 22 is 30.\n",
    "\n",
    "      10\n",
    "     /  \\\n",
    "    5    30\n",
    "        /  \\\n",
    "      22    35\n",
    "You can assume each node has a parent pointer."
   ]
  },
  {
   "cell_type": "code",
   "execution_count": 13,
   "metadata": {},
   "outputs": [],
   "source": [
    "#    I did an inorder traversal and returned the current node parent when the node had been found\n",
    "\n",
    "def inorder_succesor(tree, node):\n",
    "    currentnode = tree\n",
    "    while currentnode != None:\n",
    "        if node > currentnode.value:\n",
    "            currentnode = currentnode.rbranch\n",
    "        elif node < currentnode.value:\n",
    "            currentnode = currentnode.lbranch\n",
    "        else:\n",
    "            return currentnode.parent.value\n",
    "        \n",
    "    return 'Node not in tree'"
   ]
  },
  {
   "cell_type": "code",
   "execution_count": 14,
   "metadata": {},
   "outputs": [
    {
     "data": {
      "text/plain": [
       "30"
      ]
     },
     "execution_count": 14,
     "metadata": {},
     "output_type": "execute_result"
    }
   ],
   "source": [
    "# TEST CODE\n",
    "\n",
    "class Node:\n",
    "    def __init__(self, value):\n",
    "        self.value = value\n",
    "        self.rbranch = None\n",
    "        self.lbranch = None\n",
    "        self.parent = None\n",
    "\n",
    "a = Node(10)\n",
    "\n",
    "a.lbranch = Node(5)\n",
    "a.lbranch.parent = a\n",
    "\n",
    "a.rbranch = Node(30)\n",
    "a.rbranch.parent = a\n",
    "\n",
    "\n",
    "a.rbranch.lbranch = Node(22)\n",
    "a.rbranch.lbranch.parent = a.rbranch\n",
    "\n",
    "a.rbranch.rbranch = Node(35)\n",
    "a.rbranch.rbranch.parent = a.rbranch\n",
    "\n",
    "inorder_succesor(a, 22)"
   ]
  },
  {
   "cell_type": "markdown",
   "metadata": {},
   "source": [
    "### Daily Coding Problem: Problem #134 [Easy]\n",
    "\n",
    "This problem was asked by Facebook.\n",
    "\n",
    "You have a large array with most of the elements as zero.\n",
    "\n",
    "Use a more space-efficient data structure, SparseArray, that implements the same interface:\n",
    "\n",
    "- init(arr, size): initialize with the original large array and size.\n",
    "\n",
    "- set(i, val): updates index at i with val.\n",
    "\n",
    "- get(i): gets the value at index i."
   ]
  },
  {
   "cell_type": "code",
   "execution_count": 15,
   "metadata": {},
   "outputs": [],
   "source": [
    "#    I initialized the sparse array as a dictionary\n",
    "#    Set updates the dictionary with a key, value pair, where key is index and value is the value\n",
    "#    Get checks first if the index is within array size, then checks for key to find the index, if it's not there, it returns 0\n",
    "\n",
    "class SparseArray:\n",
    "    def __init__ (self, arr, size):\n",
    "        self.size = size\n",
    "        self.arr = arr\n",
    "        self.sparse_arr = {}\n",
    "        \n",
    "        for i in range(len(self.arr)):\n",
    "            if self.arr[i] != 0:\n",
    "                self.set(i, self.arr[i])\n",
    "        \n",
    "    def set(self, i, val):\n",
    "        if val == 0:\n",
    "            if i in self.sparse_arr:\n",
    "                del self.sparse_arr[i]\n",
    "            return\n",
    "        self.sparse_arr[i] = val\n",
    "        \n",
    "    def get(self, i):\n",
    "        if i >= self.size:\n",
    "            return 'List index out of range'\n",
    "        elif i not in self.sparse_arr:\n",
    "            return 0\n",
    "        return self.sparse_arr[i]"
   ]
  },
  {
   "cell_type": "markdown",
   "metadata": {},
   "source": [
    "### Daily Coding Problem: Problem #135 [Easy]\n",
    "\n",
    "This question was asked by Apple.\n",
    "\n",
    "Given a binary tree, find a minimum path sum from root to a leaf.\n",
    "\n",
    "For example, the minimum path in this tree is [10, 5, 1, -1], which has sum 15.\n",
    "\n",
    "       10\n",
    "      /  \\\n",
    "     5    5\n",
    "      \\     \\\n",
    "        2    1\n",
    "            /\n",
    "          -1"
   ]
  },
  {
   "cell_type": "raw",
   "metadata": {},
   "source": [
    "def minimum_path(tree):\n",
    "    \n",
    "    # Initialize the left and right branch globally and set them to None\n",
    "    global left_branch\n",
    "    global right_branch\n",
    "    left_branch = None\n",
    "    right_branch = None\n",
    "    return _minimum_path(tree, 0)\n",
    "\n",
    "def _minimum_path(tree, sum):\n",
    "    \n",
    "    # When you get to base case (i.e a leaf) return the sum\n",
    "    if tree.lbranch is None and tree.rbranch is None:\n",
    "        return sum + tree.value\n",
    "    \n",
    "    # For each node call the left and right branches recursively and set them to the left_branch and right_branch respectively, if they are not None\n",
    "    if tree.lbranch is not None:\n",
    "        left_branch = _minimum_path(tree.lbranch, sum + tree.value)\n",
    "    if tree.rbranch is not None:\n",
    "        right_branch = _minimum_path(tree.rbranch, sum + tree.value)\n",
    "    \n",
    "    # return the minimum of the branches from a node\n",
    "    if tree.lbranch is not None and tree.rbranch is not None:\n",
    "        return min(left_branch, right_branch)\n",
    "    elif tree.lbranch is None:\n",
    "        return right_branch\n",
    "    elif tree.rbranch is None:\n",
    "        return left_branch"
   ]
  },
  {
   "cell_type": "code",
   "execution_count": 22,
   "metadata": {},
   "outputs": [
    {
     "data": {
      "text/plain": [
       "17"
      ]
     },
     "execution_count": 22,
     "metadata": {},
     "output_type": "execute_result"
    }
   ],
   "source": [
    "# TEST CODE\n",
    "\n",
    "class Node:\n",
    "    def __init__(self, value):\n",
    "        self.value = value\n",
    "        self.rbranch = None\n",
    "        self.lbranch = None\n",
    "        \n",
    "T = Node(10)\n",
    "T.lbranch = Node(5)\n",
    "T.rbranch = Node(5)\n",
    "T.lbranch.rbranch = Node(2)\n",
    "T.rbranch.rbranch = Node(4)\n",
    "T.rbranch.rbranch.lbranch = Node(7)\n",
    "\n",
    "minimum_path(T)"
   ]
  },
  {
   "cell_type": "markdown",
   "metadata": {},
   "source": [
    "### Daily Coding Problem: Problem #136 [Medium]\n",
    "\n",
    "This question was asked by Google.\n",
    "\n",
    "Given an N by M matrix consisting only of 1's and 0's, find the largest rectangle containing only 1's and return its area.\n",
    "\n",
    "For example, given the following matrix:\n"
   ]
  },
  {
   "cell_type": "code",
   "execution_count": null,
   "metadata": {},
   "outputs": [],
   "source": [
    "# [[1, 0, 0, 0],\n",
    "#  [1, 0, 1, 1],\n",
    "#  [1, 0, 1, 1],\n",
    "#  [0, 1, 0, 0]]"
   ]
  },
  {
   "cell_type": "markdown",
   "metadata": {},
   "source": [
    "Return 4."
   ]
  },
  {
   "cell_type": "code",
   "execution_count": 15,
   "metadata": {},
   "outputs": [],
   "source": [
    "def largest_rectangle(matrix):\n",
    "    \n",
    "    array = [0]*len(matrix[0])\n",
    "    area = 0\n",
    "    maxArea = 0\n",
    "    \n",
    "    for i in range(len(matrix)):\n",
    "        area = largest_hist_area(array)\n",
    "        for j in range(len(matrix[0])):\n",
    "            if matrix[i][j] == 0:\n",
    "                array[j] = 0\n",
    "            else:\n",
    "                array[j] += 1\n",
    "        if area > maxArea:\n",
    "            maxArea = area\n",
    "            \n",
    "    area = largest_hist_area(array)\n",
    "    if area > maxArea:\n",
    "        maxArea = area\n",
    "    \n",
    "    return maxArea\n",
    "\n",
    "def largest_hist_area(arr):\n",
    "    stack = []\n",
    "    maxArea = 0\n",
    "    area = 0\n",
    "    \n",
    "    for i in range(1, len(arr)):\n",
    "        if arr[i] >= arr[i-1]:\n",
    "            stack.append(i-1)\n",
    "        else:\n",
    "            stack.append(i-1)\n",
    "            while arr[stack[-1]] > arr[i]:\n",
    "                top = stack.pop()\n",
    "                if len(stack) == 0:\n",
    "                    area = arr[top] * i\n",
    "                else:\n",
    "                    area = arr[top] * (i - stack[-1] - 1)\n",
    "                if area > maxArea:\n",
    "                    maxArea = area\n",
    "                if len(stack) == 0:\n",
    "                    break\n",
    "\n",
    "    i = len(arr)\n",
    "    stack.append(i-1)\n",
    "\n",
    "    while len(stack) != 0:\n",
    "        top = stack.pop()\n",
    "        if len(stack) == 0:\n",
    "            area = arr[top] * i\n",
    "        else:\n",
    "            area = arr[top] * (i - stack[-1] - 1)\n",
    "        if area > maxArea:\n",
    "            maxArea = area\n",
    "            \n",
    "    return maxArea"
   ]
  },
  {
   "cell_type": "code",
   "execution_count": 16,
   "metadata": {},
   "outputs": [
    {
     "data": {
      "text/plain": [
       "4"
      ]
     },
     "execution_count": 16,
     "metadata": {},
     "output_type": "execute_result"
    }
   ],
   "source": [
    "#Test Code\n",
    "\n",
    "matrix =[[1, 0, 0, 0],\n",
    "         [1, 0, 1, 1],\n",
    "         [1, 0, 1, 1],\n",
    "         [0, 1, 0, 0]]\n",
    "\n",
    "largest_rectangle(matrix)"
   ]
  },
  {
   "cell_type": "markdown",
   "metadata": {},
   "source": [
    "### Daily Coding Problem: Problem #137 [Medium]\n",
    "\n",
    "This problem was asked by Amazon.\n",
    "\n",
    "Implement a bit array.\n",
    "\n",
    "A bit array is a space efficient array that holds a value of 1 or 0 at each index.\n",
    "\n",
    "- init(size): initialize the array with size\n",
    "- set(i, val): updates index at i with val where val is either 1 or 0.\n",
    "- get(i): gets the value at index i."
   ]
  },
  {
   "cell_type": "code",
   "execution_count": 1,
   "metadata": {},
   "outputs": [],
   "source": [
    "class bitarray:\n",
    "    def __init__ (self, size):\n",
    "        \n",
    "        # Divide the required size by 32 to initialize the array size\n",
    "        # 32 is preferred cause that is typically how many bits a memory can contain\n",
    "        self.newsize = (size//32) + 1\n",
    "        self.arr = [0] * self.newsize\n",
    "    \n",
    "    # To set the value at an index i\n",
    "    def set(self, i, val):\n",
    "        \n",
    "        # if the bit at the index is 0\n",
    "        if (self.arr[i>>5] & 1<<(i%32)) == 0:\n",
    "            # if the value to set is 1\n",
    "            if val == 1:\n",
    "                # Update the value to 1 using an OR operator\n",
    "                self.arr[i>>5] |= (1<<(i % 32))\n",
    "            # if the value is already 0, do nothing\n",
    "            else:\n",
    "                pass\n",
    "            \n",
    "        # else if the value to set is 1\n",
    "        else:\n",
    "            # if the value is already 1, do nothing\n",
    "            if val == 1:\n",
    "                pass\n",
    "            # else if the value is 0\n",
    "            else:\n",
    "                # Update the value to 0 using an XOR operator\n",
    "                self.arr[i>>5] ^= (1<<(i%32))\n",
    "                \n",
    "    def get(self, i):\n",
    "        # Check for the value of the bit at the index\n",
    "        if (self.arr[i>>5] & 1<<(i%32)) == 0:\n",
    "            return 0\n",
    "        else:\n",
    "            return 1"
   ]
  },
  {
   "cell_type": "markdown",
   "metadata": {},
   "source": [
    "### Daily Coding Problem: Problem #138 [Hard]\n",
    "\n",
    "This problem was asked by Google.\n",
    "\n",
    "Find the minimum number of coins required to make n cents.\n",
    "\n",
    "You can use standard American denominations, that is, 1¢, 5¢, 10¢, and 25¢.\n",
    "\n",
    "For example, given n = 16, return 3 since we can make it with a 10¢, a 5¢, and a 1¢."
   ]
  },
  {
   "cell_type": "code",
   "execution_count": 2,
   "metadata": {},
   "outputs": [],
   "source": [
    "def minimumCoins(n):\n",
    "    # Set number of coins used to zero\n",
    "    count = 0\n",
    "    # Continuosly remove coins from n starting from the highest denomination\n",
    "    # Subtract the removed coin from the whatever is left of n\n",
    "    while n != 0:\n",
    "        if n >= 25:\n",
    "            n-=25\n",
    "            \n",
    "        elif n >= 10:\n",
    "            n-=10\n",
    "        \n",
    "        elif n >= 5:\n",
    "            n-=5\n",
    "            \n",
    "        else: n-=1\n",
    "        # Anytime a coin is removed add to number of coins used   \n",
    "        count+=1\n",
    "    # Return total number of coins removed\n",
    "    return count"
   ]
  },
  {
   "cell_type": "code",
   "execution_count": 5,
   "metadata": {},
   "outputs": [
    {
     "data": {
      "text/plain": [
       "3"
      ]
     },
     "execution_count": 5,
     "metadata": {},
     "output_type": "execute_result"
    }
   ],
   "source": [
    "# Test Code\n",
    "minimumCoins(16)"
   ]
  },
  {
   "cell_type": "markdown",
   "metadata": {},
   "source": [
    "#### Note:\n",
    "\n",
    "The code above runs perfectly for the above question specifically but would fail for some more peculiar denomination sets.\n",
    "\n",
    "A more robust approach is given below"
   ]
  },
  {
   "cell_type": "code",
   "execution_count": 118,
   "metadata": {},
   "outputs": [],
   "source": [
    "def mincoins(coins, n):\n",
    "    store = [float('inf')] * (n+1)\n",
    "    store[0] = 0\n",
    "    \n",
    "    \n",
    "    for i in range(coins[0],n+1):\n",
    "        for j in coins:\n",
    "            if j <= i:\n",
    "                val = store[i-j]\n",
    "                if (val != float('inf') and (val + 1) < store[i]):\n",
    "                    store[i] = val + 1\n",
    "    return store[n]"
   ]
  },
  {
   "cell_type": "code",
   "execution_count": 119,
   "metadata": {},
   "outputs": [
    {
     "data": {
      "text/plain": [
       "2"
      ]
     },
     "execution_count": 119,
     "metadata": {},
     "output_type": "execute_result"
    }
   ],
   "source": [
    "# Test Code\n",
    "mincoins([5, 10, 20, 25], 40)"
   ]
  },
  {
   "cell_type": "markdown",
   "metadata": {},
   "source": [
    "### Daily Coding Problem: Problem #139 [Medium]\n",
    "\n",
    "This problem was asked by Google.\n",
    "\n",
    "Given an iterator with methods next() and hasNext(), create a wrapper iterator, PeekableInterface, which also implements peek(). peek shows the next element that would be returned on next().\n",
    "\n",
    "Here is the interface:\n",
    "\n",
    "class PeekableInterface(object):\n",
    "\n",
    "    def __init__(self, iterator):\n",
    "        pass\n",
    "\n",
    "    def peek(self):\n",
    "        pass\n",
    "\n",
    "    def next(self):\n",
    "        pass\n",
    "\n",
    "    def hasNext(self):\n",
    "        pass"
   ]
  },
  {
   "cell_type": "code",
   "execution_count": 645,
   "metadata": {},
   "outputs": [],
   "source": [
    "class PeekableInterface(object):\n",
    "\n",
    "    def __init__(self, iterator):\n",
    "        self.iter = iterator\n",
    "        self.nextVal = next(self.iter)\n",
    "\n",
    "        \n",
    "    def peek(self):\n",
    "        return self.nextVal\n",
    "\n",
    "    def next(self):\n",
    "        nextVal = self.nextVal\n",
    "        try:\n",
    "            self.nextVal = next(self.iter)\n",
    "        except:\n",
    "            self.nextVal = None\n",
    "        return nextVal\n",
    "    \n",
    "    def hasNext(self):\n",
    "        return self.nextVal is not None"
   ]
  },
  {
   "cell_type": "markdown",
   "metadata": {},
   "source": [
    "### Daily Coding Problem: Problem #140 [Medium]\n",
    "\n",
    "This problem was asked by Facebook.\n",
    "\n",
    "Given an array of integers in which two elements appear exactly once and all other elements appear exactly twice, find the two elements that appear only once.\n",
    "\n",
    "For example, given the array [2, 4, 6, 8, 10, 2, 6, 10], return 4 and 8. The order does not matter.\n",
    "\n",
    "Follow-up: Can you do this in linear time and constant space?"
   ]
  },
  {
   "cell_type": "code",
   "execution_count": 120,
   "metadata": {},
   "outputs": [],
   "source": [
    "def appearOnce(array):\n",
    "    a, res = 0, [0,0]\n",
    "    for i in array:\n",
    "        a ^= i\n",
    "        \n",
    "    # The rightmost set bit\n",
    "    b = a & ~(a-1)\n",
    "    for i in array:\n",
    "        if i & b: res[0]^=i\n",
    "        else: res[1]^=i\n",
    "    \n",
    "    return res"
   ]
  },
  {
   "cell_type": "code",
   "execution_count": 121,
   "metadata": {},
   "outputs": [
    {
     "data": {
      "text/plain": [
       "[4, 8]"
      ]
     },
     "execution_count": 121,
     "metadata": {},
     "output_type": "execute_result"
    }
   ],
   "source": [
    "appearOnce([2, 4, 6, 8, 10, 2, 6, 10])"
   ]
  },
  {
   "cell_type": "markdown",
   "metadata": {},
   "source": [
    "### Daily Coding Problem: Problem #141 [Hard]\n",
    "\n",
    "This problem was asked by Microsoft.\n",
    "\n",
    "Implement 3 stacks using a single list:\n",
    "\n",
    "class Stack:\n",
    "\n",
    "    def __init__(self):\n",
    "        self.list = []\n",
    "\n",
    "    def pop(self, stack_number):\n",
    "        pass\n",
    "\n",
    "    def push(self, item, stack_number):\n",
    "        pass"
   ]
  },
  {
   "cell_type": "code",
   "execution_count": 26,
   "metadata": {},
   "outputs": [],
   "source": [
    "class Node:\n",
    "    def __init__ (self, value = None):\n",
    "        self.value = value\n",
    "        self.next = None\n",
    "        \n",
    "class Stack:\n",
    "    def __init__ (self):\n",
    "        self.list = [None, None, None]\n",
    "        \n",
    "    def pop(self, stack_number):\n",
    "        if self.list[stack_number] is None:\n",
    "            return 'Cannot pop from empty list'\n",
    "        curr = self.list[stack_number]\n",
    "        self.list[stack_number] = curr.next\n",
    "        curr.next = None\n",
    "        return curr.value\n",
    "        \n",
    "    def push(self, item, stack_number):\n",
    "        if self.list[stack_number] is None:\n",
    "            self.list[stack_number] = Node(item)\n",
    "            return\n",
    "        curr = self.list[stack_number]\n",
    "        self.list[stack_number] = Node(item)\n",
    "        self.list[stack_number].next = curr\n",
    "        return   "
   ]
  },
  {
   "cell_type": "markdown",
   "metadata": {},
   "source": [
    "### Daily Coding Problem: Problem #142 [Hard]\n",
    "\n",
    "This problem was asked by Google.\n",
    "\n",
    "You're given a string consisting solely of (, ), and *. * can represent either a (, ), or an empty string. Determine whether the parentheses are balanced.\n",
    "\n",
    "For example, (()* and (*) are balanced. )*( is not balanced."
   ]
  },
  {
   "cell_type": "code",
   "execution_count": 20,
   "metadata": {},
   "outputs": [],
   "source": [
    "def checkValidString(s):\n",
    "    left = 0\n",
    "    right = 0\n",
    "\n",
    "    # terating through the string from right and left\n",
    "    for i in range(len(s)):\n",
    "        # if char at index from left is ( or * increase left else decrase\n",
    "        if s[i] in '(*':\n",
    "            left +=1\n",
    "        else:\n",
    "            left -=1\n",
    "\n",
    "        # if char at index is from right ) or * increase right else decrase \n",
    "        if s[-(i+1)] in ')*':\n",
    "            right += 1\n",
    "        else:\n",
    "            right -=1\n",
    "\n",
    "        #  if either left or right is less than zero, return false\n",
    "        if left < 0 or right < 0:\n",
    "            return False\n",
    "    return True"
   ]
  },
  {
   "cell_type": "code",
   "execution_count": 21,
   "metadata": {},
   "outputs": [
    {
     "data": {
      "text/plain": [
       "True"
      ]
     },
     "execution_count": 21,
     "metadata": {},
     "output_type": "execute_result"
    }
   ],
   "source": [
    "# Test Code\n",
    "\n",
    "checkValidString(\"(()*\")"
   ]
  },
  {
   "cell_type": "code",
   "execution_count": 22,
   "metadata": {},
   "outputs": [
    {
     "data": {
      "text/plain": [
       "True"
      ]
     },
     "execution_count": 22,
     "metadata": {},
     "output_type": "execute_result"
    }
   ],
   "source": [
    "checkValidString(\"()\")"
   ]
  },
  {
   "cell_type": "code",
   "execution_count": 23,
   "metadata": {},
   "outputs": [
    {
     "data": {
      "text/plain": [
       "False"
      ]
     },
     "execution_count": 23,
     "metadata": {},
     "output_type": "execute_result"
    }
   ],
   "source": [
    "checkValidString(\")(\")"
   ]
  },
  {
   "cell_type": "markdown",
   "metadata": {
    "collapsed": true
   },
   "source": [
    "### Daily Coding Problem: Problem #143 [Medium]\n",
    "\n",
    "This problem was asked by Amazon.\n",
    "\n",
    "Given a pivot x, and a list lst, partition the list into three parts.\n",
    "\n",
    "- The first part contains all elements in lst that are less than x\n",
    "- The second part contains all elements in lst that are equal to x\n",
    "- The third part contains all elements in lst that are larger than x\n",
    "- Ordering within a part can be arbitrary.\n",
    "\n",
    "For example, given x = 10 and lst = [9, 12, 3, 5, 14, 10, 10], one partition may be [9, 3, 5, 10, 10, 12, 14]."
   ]
  },
  {
   "cell_type": "code",
   "execution_count": 27,
   "metadata": {},
   "outputs": [],
   "source": [
    "def partitionIntoThree(arr, x):\n",
    "    less = [i for i in arr if i<x]\n",
    "    equals = [i for i in arr if i==x]\n",
    "    greater = [i for i in arr if i > x]\n",
    "    return  less + equals + greater"
   ]
  },
  {
   "cell_type": "code",
   "execution_count": 28,
   "metadata": {},
   "outputs": [
    {
     "data": {
      "text/plain": [
       "[9, 3, 5, 10, 10, 12, 14]"
      ]
     },
     "execution_count": 28,
     "metadata": {},
     "output_type": "execute_result"
    }
   ],
   "source": [
    "# Test Code\n",
    "arr = [9,12,3,5,14,10,10]\n",
    "partitionIntoThree(arr, 10)"
   ]
  },
  {
   "cell_type": "markdown",
   "metadata": {},
   "source": [
    "### Daily Coding Problem: Problem #144 [Medium]\n",
    "    \n",
    "This problem was asked by Google.\n",
    "\n",
    "Given an array of numbers and an index i, return the index of the nearest larger number of the number at index i, where distance is measured in array indices.\n",
    "\n",
    "For example, given [4, 1, 3, 5, 6] and index 0, you should return 3.\n",
    "\n",
    "If two distances to larger numbers are the equal, then return any one of them. If the array at i doesn't have a nearest larger integer, then return null.\n",
    "\n",
    "Follow-up: If you can preprocess the array, can you do this in constant time?"
   ]
  },
  {
   "cell_type": "code",
   "execution_count": 167,
   "metadata": {},
   "outputs": [],
   "source": [
    "def preprocess_array(arr):\n",
    "    val_idx = [(arr[i], i) for i in range(len(arr))]\n",
    "    val_idx.sort(key = lambda x: x[0])\n",
    "    \n",
    "    processed = [None]*len(arr)\n",
    "    for i, group in enumerate(val_idx):\n",
    "        min_dist = len(val_idx)-1\n",
    "        cur_idx = None\n",
    "        for j in range(i+1, len(val_idx)):\n",
    "            cur_dist = abs(group[1] - val_idx[j][1])\n",
    "            if cur_dist < min_dist:\n",
    "                min_dist = cur_dist\n",
    "                cur_idx = val_idx[j][1]\n",
    "        processed[group[1]] = cur_idx\n",
    "        \n",
    "    return processed\n",
    "\n",
    "def nearest_larger(nums, i):\n",
    "    processed_nums = preprocess_array(nums)\n",
    "    return processed_nums[i]"
   ]
  },
  {
   "cell_type": "code",
   "execution_count": 168,
   "metadata": {},
   "outputs": [
    {
     "data": {
      "text/plain": [
       "3"
      ]
     },
     "execution_count": 168,
     "metadata": {},
     "output_type": "execute_result"
    }
   ],
   "source": [
    "# Test Code\n",
    "\n",
    "nums, index = [4, 1, 3, 5, 6], 0\n",
    "nearest_larger(nums, index)"
   ]
  },
  {
   "cell_type": "markdown",
   "metadata": {},
   "source": [
    "### Daily Coding Problem: Problem #145 [Easy]\n",
    "\n",
    "This problem was asked by Google.\n",
    "\n",
    "Given the head of a singly linked list, swap every two nodes and return its head.\n",
    "\n",
    "For example, given 1 -> 2 -> 3 -> 4, return 2 -> 1 -> 4 -> 3."
   ]
  },
  {
   "cell_type": "code",
   "execution_count": 204,
   "metadata": {},
   "outputs": [],
   "source": [
    "def swapEveryTwoNodes(head):\n",
    "    if not head: return\n",
    "    \n",
    "    new_head = head.Next\n",
    "    head.Next = head.Next.Next\n",
    "    prev = new_head.Next = head\n",
    "    cur = head.Next\n",
    "    \n",
    "    while cur:\n",
    "        prev.Next = cur.Next\n",
    "        cur.Next, prev.Next.Next = prev.Next.Next, cur\n",
    "        prev, cur = cur, cur.Next\n",
    "    return new_head"
   ]
  },
  {
   "cell_type": "code",
   "execution_count": 205,
   "metadata": {},
   "outputs": [
    {
     "name": "stdout",
     "output_type": "stream",
     "text": [
      "2 --> 1 --> 4 --> 3\n"
     ]
    }
   ],
   "source": [
    "# Test Code\n",
    "\n",
    "class Node:\n",
    "    def __init__(self, val, Next = None):\n",
    "        self.val = val\n",
    "        self.Next = Next\n",
    "\n",
    "#1 --> 2 --> 3 --> 4\n",
    "head = Node(1); head.Next = Node(2); head.Next.Next = Node(3); head.Next.Next.Next = Node(4)\n",
    "\n",
    "new_head = swapEveryTwoNodes(head)\n",
    "print(new_head.val, '-->', new_head.Next.val, '-->', new_head.Next.Next.val, '-->', new_head.Next.Next.Next.val)"
   ]
  },
  {
   "cell_type": "markdown",
   "metadata": {},
   "source": [
    "Daily Coding Problem: Problem #146 [Medium]\n",
    "\n",
    "This question was asked by BufferBox.\n",
    "\n",
    "Given a binary tree where all nodes are either 0 or 1, prune the tree so that subtrees containing all 0s are removed.\n",
    "\n",
    "For example, given the following tree:\n",
    "\n",
    "       0\n",
    "      / \\\n",
    "     1   0\n",
    "        / \\\n",
    "       1   0\n",
    "      / \\\n",
    "     0   0\n",
    "should be pruned to:\n",
    "\n",
    "       0\n",
    "      / \\\n",
    "     1   0\n",
    "        /\n",
    "       1\n",
    "We do not remove the tree at the root or its left child because it still has a 1 as a descendant."
   ]
  },
  {
   "cell_type": "code",
   "execution_count": 228,
   "metadata": {},
   "outputs": [],
   "source": [
    "def pruneZerosSubtree(root):\n",
    "    def dfs(node):\n",
    "        if node is None: return True\n",
    "        lbranch = dfs(node.left)\n",
    "        rbranch = dfs(node.right)\n",
    "        if lbranch is True: node.left = None\n",
    "        if rbranch is True: node.right = None\n",
    "\n",
    "        return node.val == 0 and lbranch and rbranch\n",
    "\n",
    "    return root if not dfs(root) else None"
   ]
  },
  {
   "cell_type": "code",
   "execution_count": 229,
   "metadata": {},
   "outputs": [
    {
     "name": "stdout",
     "output_type": "stream",
     "text": [
      "[0, 1, 0, None, None, 1, None]\n"
     ]
    }
   ],
   "source": [
    "# Test Code\n",
    "\n",
    "class Node:\n",
    "    def __init__(self, val, right=None, left=None):\n",
    "        self.val = val\n",
    "        self.right = right\n",
    "        self.left = left\n",
    "\n",
    "root = Node(0)\n",
    "\n",
    "root.left = Node(1)\n",
    "root.right = Node(0)\n",
    "\n",
    "root.right.left = Node(1)\n",
    "root.right.right = Node(0)\n",
    "\n",
    "root.right.left.left = Node(0)\n",
    "root.right.left.right = Node(0)\n",
    "\n",
    "root = pruneZerosSubtree(root)\n",
    "print([root.val, root.left.val, root.right.val, root.left.left, root.left.right, root.right.left.val, root.right.right])"
   ]
  },
  {
   "cell_type": "markdown",
   "metadata": {},
   "source": [
    "### Daily Coding Problem: Problem #147 [Hard]\n",
    "\n",
    "Given a list, sort it using this method: reverse(lst, i, j), which reverses lst from i to j."
   ]
  },
  {
   "cell_type": "code",
   "execution_count": 321,
   "metadata": {},
   "outputs": [],
   "source": [
    "def customSort(lst):\n",
    "    \n",
    "    def reverse(lst, i, j):\n",
    "        if i >= j: return lst\n",
    "        lst[i], lst[j] = lst[j], lst[i]\n",
    "        return reverse(lst, i+1, j-1)\n",
    "\n",
    "    base = len(lst)-1\n",
    "    while base > 0:\n",
    "        max_idx = lst.index(max(lst[:base+1]))\n",
    "        if max_idx < base:\n",
    "            reverse(lst, 0, max_idx)\n",
    "            reverse(lst, 0, base)\n",
    "        base-=1\n",
    "        \n",
    "    return lst"
   ]
  },
  {
   "cell_type": "markdown",
   "metadata": {},
   "source": [
    "### Daily Coding Problem: Problem #148 [Medium]\n",
    "\n",
    "This problem was asked by Apple.\n",
    "\n",
    "Gray code is a binary code where each successive value differ in only one bit, as well as when wrapping around. Gray code is common in hardware so that we don't see temporary spurious values during transitions.\n",
    "\n",
    "Given a number of bits n, generate a possible gray code for it.\n",
    "\n",
    "For example, for n = 2, one gray code would be [00, 01, 11, 10]."
   ]
  },
  {
   "cell_type": "code",
   "execution_count": 161,
   "metadata": {},
   "outputs": [],
   "source": [
    "def grayCode(n):\n",
    "    res = []\n",
    "    max_num = 1 << n\n",
    "    for num in range(max_num):\n",
    "        cur, i, j = bin(num), 2, 3\n",
    "        gray = [cur[i]]\n",
    "        while j <= len(cur)-1:\n",
    "            if cur[i] == cur[j]: gray.append(\"0\")\n",
    "            else: gray.append(\"1\")\n",
    "            j +=1\n",
    "            i +=1\n",
    "        res.append(\"0\"*(n-len(gray)) + \"\".join(gray))\n",
    "        \n",
    "    return res"
   ]
  },
  {
   "cell_type": "code",
   "execution_count": 162,
   "metadata": {},
   "outputs": [],
   "source": [
    "# Aproach 2\n",
    "\n",
    "def grayCode2(n: int):\n",
    "    return [format(i ^ (i >> 1), f'0{n}b') for i in range(1 << n)]"
   ]
  },
  {
   "cell_type": "code",
   "execution_count": 163,
   "metadata": {},
   "outputs": [
    {
     "data": {
      "text/plain": [
       "['00', '01', '11', '10']"
      ]
     },
     "execution_count": 163,
     "metadata": {},
     "output_type": "execute_result"
    }
   ],
   "source": [
    "# Test Code\n",
    "\n",
    "n = 2\n",
    "graycode(n)"
   ]
  },
  {
   "cell_type": "markdown",
   "metadata": {},
   "source": [
    "### Daily Coding Problem: Problem #149 [Hard]\n",
    "\n",
    "This problem was asked by Goldman Sachs.\n",
    "\n",
    "Given a list of numbers L, implement a method sum(i, j) which returns the sum from the sublist L[i:j] (including i, excluding j).\n",
    "\n",
    "For example, given L = [1, 2, 3, 4, 5], sum(1, 3) should return sum([2, 3]), which is 5.\n",
    "\n",
    "You can assume that you can do some pre-processing. sum() should be optimized over the pre-processing step."
   ]
  },
  {
   "cell_type": "code",
   "execution_count": 40,
   "metadata": {},
   "outputs": [],
   "source": [
    "class sumSubList:\n",
    "    \n",
    "    def __init__(self, nums):\n",
    "        for i in range(1, len(nums)):\n",
    "            nums[i] += nums[i-1]\n",
    "        self.nums = nums\n",
    "        \n",
    "    def sum(self, i, j):\n",
    "        if i < 0 or j > len(self.nums):\n",
    "            raise IndexError(\"list index out of range\")\n",
    "        if i > j:\n",
    "            raise IndexError(\"index i cannot be greater than j\")\n",
    "        if i == 0: return self.nums[j-1]\n",
    "        return self.nums[j-1] - self.nums[i-1]"
   ]
  },
  {
   "cell_type": "code",
   "execution_count": 41,
   "metadata": {},
   "outputs": [
    {
     "data": {
      "text/plain": [
       "5"
      ]
     },
     "execution_count": 41,
     "metadata": {},
     "output_type": "execute_result"
    }
   ],
   "source": [
    "# Test Code\n",
    "\n",
    "L = [1, 2, 3, 4, 5]\n",
    "i, j = 1, 3\n",
    "\n",
    "sol = sumSubList(L)\n",
    "sol.sum(i, j)"
   ]
  },
  {
   "cell_type": "markdown",
   "metadata": {},
   "source": [
    "### Daily Coding Problem: Problem #150 [Hard]\n",
    "\n",
    "This problem was asked by LinkedIn.\n",
    "\n",
    "Given a list of points, a central point, and an integer k, find the nearest k points from the central point.\n",
    "\n",
    "For example, given the list of points [(0, 0), (5, 4), (3, 1)], the central point (1, 2), and k = 2, return [(0, 0), (3, 1)]."
   ]
  },
  {
   "cell_type": "code",
   "execution_count": 56,
   "metadata": {},
   "outputs": [],
   "source": [
    "import math"
   ]
  },
  {
   "cell_type": "code",
   "execution_count": 61,
   "metadata": {},
   "outputs": [],
   "source": [
    "def nearestKPoints(points, c, k):\n",
    "    points.sort(key = lambda x: math.sqrt( (c[0]-x[0])**2 + (c[1]-x[1])**2 ))\n",
    "    return points[:k]"
   ]
  },
  {
   "cell_type": "code",
   "execution_count": 62,
   "metadata": {},
   "outputs": [
    {
     "data": {
      "text/plain": [
       "[(0, 0), (3, 1)]"
      ]
     },
     "execution_count": 62,
     "metadata": {},
     "output_type": "execute_result"
    }
   ],
   "source": [
    "# Test Code\n",
    "\n",
    "points, central, k = [(0, 0), (5, 4), (3, 1)], (1, 2), 2\n",
    "\n",
    "nearestKPoints(points, central, k)"
   ]
  },
  {
   "cell_type": "code",
   "execution_count": null,
   "metadata": {},
   "outputs": [],
   "source": []
  },
  {
   "cell_type": "code",
   "execution_count": null,
   "metadata": {},
   "outputs": [],
   "source": []
  },
  {
   "cell_type": "code",
   "execution_count": null,
   "metadata": {},
   "outputs": [],
   "source": []
  },
  {
   "cell_type": "markdown",
   "metadata": {},
   "source": [
    "### Daily Coding Problem: Problem #171 [Easy]\n",
    "\n",
    "This problem was asked by Amazon.\n",
    "\n",
    "You are given a list of data entries that represent entries and exits of groups of people into a building. An entry looks like this:\n",
    "\n",
    "- {\"timestamp\": 1526579928, count: 3, \"type\": \"enter\"}\n",
    "\n",
    "This means 3 people entered the building. An exit looks like this:\n",
    "\n",
    "- {\"timestamp\": 1526580382, count: 2, \"type\": \"exit\"}\n",
    "\n",
    "This means that 2 people exited the building. timestamp is in Unix time.\n",
    "\n",
    "Find the busiest period in the building, that is, the time with the most people in the building. Return it as a pair of (start, end) timestamps. You can assume the building always starts off and ends up empty, i.e. with 0 people inside."
   ]
  },
  {
   "cell_type": "code",
   "execution_count": null,
   "metadata": {},
   "outputs": [],
   "source": []
  },
  {
   "cell_type": "code",
   "execution_count": 757,
   "metadata": {},
   "outputs": [],
   "source": [
    "def busiest_period(movement):\n",
    "    max_people = cur = 0\n",
    "    \n",
    "    for i in movement:\n",
    "        print(cur)\n",
    "        if i[\"type\"] == \"enter\":\n",
    "            cur +=i[\"count\"]\n",
    "            if cur > max_people:\n",
    "                max_people = cur\n",
    "                start = i[\"timestamp\"]\n",
    "        else:\n",
    "            if cur == max_people:\n",
    "                end = i[\"timestamp\"]\n",
    "            cur -=i[\"count\"]\n",
    "    return (start, end)"
   ]
  },
  {
   "cell_type": "markdown",
   "metadata": {},
   "source": [
    "### Daily Coding Problem: Problem #172 [Medium]\n",
    "\n",
    "This problem was asked by Dropbox.\n",
    "\n",
    "Given a string s and a list of words words, where each word is the same length, find all starting indices of substrings in s that is a concatenation of every word in words exactly once.\n",
    "\n",
    "For example, \n",
    "- Given s = \"dogcatcatcodecatdog\" and words = [\"cat\", \"dog\"], return [0, 13], since \"dogcat\" starts at index 0 and \"catdog\" starts at index 13.\n",
    "\n",
    "- Given s = \"barfoobazbitbyte\" and words = [\"dog\", \"cat\"], return [] since there are no substrings composed of \"dog\" and \"cat\" in s.\n",
    "\n",
    "The order of the indices does not matter."
   ]
  },
  {
   "cell_type": "code",
   "execution_count": 435,
   "metadata": {},
   "outputs": [],
   "source": [
    "def concatSubstringIndices(s, words):        \n",
    "    if not s or not words: return []\n",
    "    if len(''.join(words))>len(s): return []\n",
    "    \n",
    "    store, res, n = {}, [], len(words[0])\n",
    "    \n",
    "    for word in words:\n",
    "        if word in store: store[word] += 1\n",
    "        else: store[word] = 1\n",
    "    \n",
    "    for i in range(len(s)):\n",
    "        curmap = {}\n",
    "        \n",
    "        for j in range(i, len(s), n):\n",
    "            cur = s[j: j+n]\n",
    "            if cur in store:\n",
    "                if cur in curmap: curmap[cur] +=1\n",
    "                else: curmap[cur] = 1\n",
    "            else: break\n",
    "                \n",
    "            if curmap[cur] > store[cur]: break\n",
    "                \n",
    "            if curmap == store: res.append(i)\n",
    "    return res"
   ]
  },
  {
   "cell_type": "code",
   "execution_count": 436,
   "metadata": {},
   "outputs": [
    {
     "data": {
      "text/plain": [
       "[0, 13]"
      ]
     },
     "execution_count": 436,
     "metadata": {},
     "output_type": "execute_result"
    }
   ],
   "source": [
    "# Test Code\n",
    "\n",
    "s1, words1 = \"dogcatcatcodecatdog\", [\"cat\", \"dog\"]\n",
    "s2, words2 = \"barfoobazbitbyte\", [\"dog\", \"cat\"]\n",
    "\n",
    "concatSubstringIndices(s1, words1)"
   ]
  },
  {
   "cell_type": "code",
   "execution_count": 437,
   "metadata": {},
   "outputs": [
    {
     "data": {
      "text/plain": [
       "[]"
      ]
     },
     "execution_count": 437,
     "metadata": {},
     "output_type": "execute_result"
    }
   ],
   "source": [
    "concatSubstringIndices(s2, words2)"
   ]
  },
  {
   "cell_type": "markdown",
   "metadata": {},
   "source": [
    "### Daily Coding Problem: Problem #173 [Easy]\n",
    "\n",
    "This problem was asked by Stripe.\n",
    "\n",
    "Write a function to flatten a nested dictionary. Namespace the keys with a period.\n",
    "\n",
    "For example, given the following dictionary:\n",
    "\n",
    "{\n",
    "    \"key\": 3,\n",
    "    \"foo\": {\n",
    "        \"a\": 5,\n",
    "        \"bar\": {\n",
    "            \"baz\": 8\n",
    "        }\n",
    "    }\n",
    "}\n",
    "it should become:\n",
    "\n",
    "{\n",
    "    \"key\": 3,\n",
    "    \"foo.a\": 5,\n",
    "    \"foo.bar.baz\": 8\n",
    "}\n",
    "You can assume keys do not contain dots in them, i.e. no clobbering will occur."
   ]
  },
  {
   "cell_type": "code",
   "execution_count": 61,
   "metadata": {},
   "outputs": [],
   "source": [
    "def flattenNestedDict(dictionary):\n",
    "    newdict = {}\n",
    "    \n",
    "    def nest(dictionary, prevkey = \"\"):\n",
    "        # For, key and value in dictionary\n",
    "        # If prevkey is not empty, set k equal to prevkey + k\n",
    "        # If value is a dictionary, recursively call nest\n",
    "        # Else add k = value to dictionary\n",
    "        for k, v in dictionary.items():\n",
    "            if prevkey:\n",
    "                k = prevkey + \".\" + k\n",
    "            if type(v) == dict:\n",
    "                nest(v, k)\n",
    "            else: newdict[k] = v\n",
    "                \n",
    "    nest(dictionary)\n",
    "    return newdict"
   ]
  },
  {
   "cell_type": "code",
   "execution_count": 62,
   "metadata": {},
   "outputs": [
    {
     "data": {
      "text/plain": [
       "{'key': 3, 'foo.a': 5, 'foo.bar.baz': 8}"
      ]
     },
     "execution_count": 62,
     "metadata": {},
     "output_type": "execute_result"
    }
   ],
   "source": [
    "flattenNestedDict({ \"key\": 3, \"foo\": { \"a\": 5, \"bar\": { \"baz\": 8 } } })"
   ]
  },
  {
   "cell_type": "markdown",
   "metadata": {},
   "source": [
    "### Daily Coding Problem: Problem #174 [Medium]\n",
    "\n",
    "Describe and give an example of each of the following types of polymorphism:\n",
    "\n",
    "- Ad-hoc polymorphism\n",
    "- Parametric polymorphism\n",
    "- Subtype polymorphism"
   ]
  },
  {
   "cell_type": "markdown",
   "metadata": {},
   "source": [
    "#### ANSWER TO QUESTIONS\n",
    "\n",
    "- Ad-hoc polymorphism:\n",
    "    Ad-hoc polymorphism is also known as function overloading, and it refers to using the type system in order to resolve precisely which method will be invoked. So, we may have two functions, both called fn, where one accepts an int parameter, while the other accepts a String parameter, and the right function to invoke is chosen based on the type of parameter being passed.\n",
    "\n",
    "- Parametic polymorphosm:\n",
    "    Parametric polymorphism is a programming language technique that enables the generic definition of functions and types, without a great deal of concern for type-based errors. It allows language to be more expressive while writing generic code that applies to various types of data. Functions written in context with parametric polymorphism work on various data types.\n",
    "    For example: A method that returns the number of elements in a Collection. You can pass in a list of any type of elements, and it will return an answer.\n",
    "\n",
    "\n",
    "- Subtype polymorphism:\n",
    "     Subtype polymorphism allows a function to be written to take an object of a certain type T, but also work correctly if passed an object that belongs to a type S that is a subtype of T\n",
    "    In other words, you can have a method that takes an Animal as a parameter but you can also pass in a Cat or a Dog into it because Cats and Dogs are animals."
   ]
  },
  {
   "cell_type": "markdown",
   "metadata": {},
   "source": [
    "### Daily Coding Problem: Problem #175 [Easy]\n",
    "\n",
    "This problem was asked by Google.\n",
    "\n",
    "You are given a starting state start, a list of transition probabilities for a Markov chain, and a number of steps num_steps. Run the Markov chain starting from start for num_steps and compute the number of times we visited each state.\n",
    "\n",
    "For example, given the starting state a, number of steps 5000, and the following transition probabilities:\n",
    "\n",
    "[\n",
    "\n",
    "    ('a', 'a', 0.9),\n",
    "    ('a', 'b', 0.075),\n",
    "    ('a', 'c', 0.025),\n",
    "    ('b', 'a', 0.15),\n",
    "    ('b', 'b', 0.8),\n",
    "    ('b', 'c', 0.05),\n",
    "    ('c', 'a', 0.25),\n",
    "    ('c', 'b', 0.25),\n",
    "    ('c', 'c', 0.5)\n",
    "]\n",
    "\n",
    "One instance of running this Markov chain might produce { 'a': 3012, 'b': 1656, 'c': 332 }."
   ]
  },
  {
   "cell_type": "code",
   "execution_count": 122,
   "metadata": {},
   "outputs": [],
   "source": [
    "# Import random choice for selecting from a list with varying probability of items\n",
    "from numpy.random import choice"
   ]
  },
  {
   "cell_type": "code",
   "execution_count": 689,
   "metadata": {},
   "outputs": [],
   "source": [
    "def markov_chain(chain, start, steps):\n",
    "    statesmap, states = {}, []\n",
    "    \n",
    "    # Add the possible starting states to a 'statesmap' with value = 0 to represent number of visits\n",
    "    # Also append them to the states list\n",
    "    for val in chain:\n",
    "        if val[0] not in statesmap: statesmap[val[0]]=0; states.append(val[0])\n",
    "    \n",
    "    # Create a 2 dimensional array('store') and make it the length of states\n",
    "    # Each point in the 2D array represents probability of transition from one state to another\n",
    "    # Iterate through the chain and set the values of the transition probabilities in the 2D array('store')\n",
    "    store = [[0]*len(states) for i in range(len(states))]\n",
    "    for i in chain:\n",
    "        idx1, idx2 = states.index(i[0]), states.index(i[1])\n",
    "        store[idx1][idx2] = i[2]\n",
    "    \n",
    "    # From the designated start state, select a state to transition to based on the probabilities\n",
    "    # The selection is made by passing the required array from 'store' into random.choice\n",
    "    # Repeatedly make these transitions for the numer of steps and increment the of visit in statesmap\n",
    "    curidx = states.index(start)\n",
    "    for _ in range(steps):\n",
    "        val = choice(states, 1, p=store[curidx], replace=False)[0]\n",
    "        curidx = states.index(val)\n",
    "        statesmap[val] += 1\n",
    "    return statesmap"
   ]
  },
  {
   "cell_type": "code",
   "execution_count": 690,
   "metadata": {},
   "outputs": [
    {
     "data": {
      "text/plain": [
       "{'a': 3022, 'b': 1600, 'c': 378}"
      ]
     },
     "execution_count": 690,
     "metadata": {},
     "output_type": "execute_result"
    }
   ],
   "source": [
    "# Test Code\n",
    "\n",
    "markov_chain([('a', 'a', 0.9),\n",
    "              ('a', 'b', 0.075),\n",
    "              ('a', 'c', 0.025),\n",
    "              ('b', 'a', 0.15),\n",
    "              ('b', 'b', 0.8),\n",
    "              ('b', 'c', 0.05),\n",
    "              ('c', 'a', 0.25),\n",
    "              ('c', 'b', 0.25),\n",
    "              ('c', 'c', 0.5)], 'a', 5000)"
   ]
  },
  {
   "cell_type": "markdown",
   "metadata": {},
   "source": [
    "### Daily Coding Problem: Problem #176 [Easy]\n",
    "\n",
    "This problem was asked by Bloomberg.\n",
    "\n",
    "Determine whether there exists a one-to-one character mapping from one string s1 to another s2.\n",
    "\n",
    "For example, given s1 = abc and s2 = bcd, return true since we can map a to b, b to c, and c to d.\n",
    "\n",
    "Given s1 = foo and s2 = bar, return false since the o cannot map to two characters."
   ]
  },
  {
   "cell_type": "code",
   "execution_count": 264,
   "metadata": {},
   "outputs": [],
   "source": [
    "def oneToOne(s1, s2):\n",
    "    check, store = set(), {}\n",
    "    \n",
    "    if len(s1) != len(s2): return False\n",
    "    for i in range(len(s1)):\n",
    "        if s1[i] in store:\n",
    "            if store[s1[i]] == s2[i]: pass\n",
    "            else: return False\n",
    "        else:\n",
    "            if s2[i] in check: return False\n",
    "            store[s1[i]] = s2[i]\n",
    "    return True"
   ]
  },
  {
   "cell_type": "code",
   "execution_count": 265,
   "metadata": {},
   "outputs": [
    {
     "data": {
      "text/plain": [
       "True"
      ]
     },
     "execution_count": 265,
     "metadata": {},
     "output_type": "execute_result"
    }
   ],
   "source": [
    "# Tets Code\n",
    "\n",
    "s1a, s2a = \"abc\", \"bcd\"\n",
    "s1b, s2b = \"foo\", \"bar\"\n",
    "\n",
    "oneToOne(s1a, s2a)"
   ]
  },
  {
   "cell_type": "code",
   "execution_count": 266,
   "metadata": {},
   "outputs": [
    {
     "data": {
      "text/plain": [
       "False"
      ]
     },
     "execution_count": 266,
     "metadata": {},
     "output_type": "execute_result"
    }
   ],
   "source": [
    "oneToOne(s1b, s2b)"
   ]
  },
  {
   "cell_type": "markdown",
   "metadata": {},
   "source": [
    "### Daily Coding Problem: Problem #177 [Easy]\n",
    "\n",
    "This problem was asked by Airbnb.\n",
    "\n",
    "Given a linked list and a positive integer k, rotate the list to the right by k places.\n",
    "\n",
    "For example, given the linked list 7 -> 7 -> 3 -> 5 and k = 2, it should become 3 -> 5 -> 7 -> 7.\n",
    "\n",
    "Given the linked list 1 -> 2 -> 3 -> 4 -> 5 and k = 3, it should become 3 -> 4 -> 5 -> 1 -> 2."
   ]
  },
  {
   "cell_type": "code",
   "execution_count": 174,
   "metadata": {},
   "outputs": [],
   "source": [
    "def rotateLList(head, k):\n",
    "    \n",
    "    if not head: return\n",
    "    \n",
    "    tail, length = head, 1\n",
    "    while tail.next:\n",
    "        tail = tail.next\n",
    "        length +=1\n",
    "    k %= length\n",
    "    tail.next = head\n",
    "    \n",
    "    while k:\n",
    "        tail, head = tail.next, head.next\n",
    "        k-=1\n",
    "    tail.next = None\n",
    "    return head"
   ]
  },
  {
   "cell_type": "code",
   "execution_count": 182,
   "metadata": {},
   "outputs": [
    {
     "name": "stdout",
     "output_type": "stream",
     "text": [
      "3 -> 5 -> 7 -> 7\n"
     ]
    }
   ],
   "source": [
    "# TEST CODE\n",
    "\n",
    "class Node:\n",
    "    def __init__(self, value):\n",
    "        self.value = value\n",
    "        self.next = None\n",
    "\n",
    "# LL = 7 -> 7 -> 3 -> 5 -\n",
    "LL = Node(7)\n",
    "LL.next = Node(7)\n",
    "LL.next.next = Node(3)\n",
    "LL.next.next.next = Node(5)\n",
    "\n",
    "res = rotateLList(LL, 2)\n",
    "while res.next: print(res.value, end=' -> '); res=res.next\n",
    "print(res.value)"
   ]
  },
  {
   "cell_type": "markdown",
   "metadata": {},
   "source": [
    "### Daily Coding Problem: Problem #178 [Hard]\n",
    "\n",
    "This problem was asked by Two Sigma.\n",
    "\n",
    "Alice wants to join her school's Probability Student Club. Membership dues are computed via one of two simple probabilistic games.\n",
    "\n",
    "- The first game: roll a die repeatedly. Stop rolling once you get a five followed by a six. Your number of rolls is the amount you pay, in dollars.\n",
    "\n",
    "- The second game: same, except that the stopping condition is a five followed by a five.\n",
    "\n",
    "Which of the two games should Alice elect to play? Does it even matter? Write a program to simulate the two games and calculate their expected value."
   ]
  },
  {
   "cell_type": "markdown",
   "metadata": {},
   "source": [
    "#### ANSWER TO QUESTION\n",
    "Both games have the same probability of happening. It does not matter which she picks"
   ]
  },
  {
   "cell_type": "code",
   "execution_count": null,
   "metadata": {},
   "outputs": [],
   "source": [
    "# import random to select at random\n",
    "import random"
   ]
  },
  {
   "cell_type": "code",
   "execution_count": 220,
   "metadata": {},
   "outputs": [],
   "source": [
    "def simulateGames():\n",
    "    rolldie, totalgame1, totalgame2, = [1,2,3,4,5,6], 0, 0\n",
    "    \n",
    "    res = None\n",
    "    while True:\n",
    "        totalgame1+=1\n",
    "        prev = res\n",
    "        res = random.choice(rolldie)\n",
    "        if prev:\n",
    "            print('GAME 1 (roll', str(totalgame1)+') -> previous pick:', prev, '| current pick:', res)\n",
    "            if prev == 5 and res == 6:\n",
    "                break\n",
    "        else:\n",
    "            print('GAME 1 (roll 1) -> first pick:', res)\n",
    "            prev = res\n",
    "    \n",
    "    res = None\n",
    "    while True:\n",
    "        totalgame2+=1\n",
    "        prev=res\n",
    "        res = random.choice(rolldie)\n",
    "        if prev:\n",
    "            print('GAME 2 (roll',str(totalgame2)+') -> previous pick:', prev, '| current pick:', res)\n",
    "            if prev == 5 and res == 5:\n",
    "                break\n",
    "        else:\n",
    "            print('\\nGAME 2 (roll 1) -> first pick:', res)\n",
    "            prev = res\n",
    "            \n",
    "    return 'Expected value for Game1 is ' + str(totalgame1) + ' while Game2 is ' + str(totalgame2)"
   ]
  },
  {
   "cell_type": "code",
   "execution_count": 223,
   "metadata": {},
   "outputs": [
    {
     "name": "stdout",
     "output_type": "stream",
     "text": [
      "GAME 1 (roll 1) -> first pick: 3\n",
      "GAME 1 (roll 2) -> previous pick: 3 | current pick: 6\n",
      "GAME 1 (roll 3) -> previous pick: 6 | current pick: 6\n",
      "GAME 1 (roll 4) -> previous pick: 6 | current pick: 2\n",
      "GAME 1 (roll 5) -> previous pick: 2 | current pick: 1\n",
      "GAME 1 (roll 6) -> previous pick: 1 | current pick: 3\n",
      "GAME 1 (roll 7) -> previous pick: 3 | current pick: 1\n",
      "GAME 1 (roll 8) -> previous pick: 1 | current pick: 6\n",
      "GAME 1 (roll 9) -> previous pick: 6 | current pick: 5\n",
      "GAME 1 (roll 10) -> previous pick: 5 | current pick: 5\n",
      "GAME 1 (roll 11) -> previous pick: 5 | current pick: 3\n",
      "GAME 1 (roll 12) -> previous pick: 3 | current pick: 4\n",
      "GAME 1 (roll 13) -> previous pick: 4 | current pick: 1\n",
      "GAME 1 (roll 14) -> previous pick: 1 | current pick: 1\n",
      "GAME 1 (roll 15) -> previous pick: 1 | current pick: 6\n",
      "GAME 1 (roll 16) -> previous pick: 6 | current pick: 5\n",
      "GAME 1 (roll 17) -> previous pick: 5 | current pick: 5\n",
      "GAME 1 (roll 18) -> previous pick: 5 | current pick: 2\n",
      "GAME 1 (roll 19) -> previous pick: 2 | current pick: 1\n",
      "GAME 1 (roll 20) -> previous pick: 1 | current pick: 2\n",
      "GAME 1 (roll 21) -> previous pick: 2 | current pick: 6\n",
      "GAME 1 (roll 22) -> previous pick: 6 | current pick: 1\n",
      "GAME 1 (roll 23) -> previous pick: 1 | current pick: 6\n",
      "GAME 1 (roll 24) -> previous pick: 6 | current pick: 6\n",
      "GAME 1 (roll 25) -> previous pick: 6 | current pick: 2\n",
      "GAME 1 (roll 26) -> previous pick: 2 | current pick: 5\n",
      "GAME 1 (roll 27) -> previous pick: 5 | current pick: 3\n",
      "GAME 1 (roll 28) -> previous pick: 3 | current pick: 3\n",
      "GAME 1 (roll 29) -> previous pick: 3 | current pick: 6\n",
      "GAME 1 (roll 30) -> previous pick: 6 | current pick: 1\n",
      "GAME 1 (roll 31) -> previous pick: 1 | current pick: 2\n",
      "GAME 1 (roll 32) -> previous pick: 2 | current pick: 2\n",
      "GAME 1 (roll 33) -> previous pick: 2 | current pick: 5\n",
      "GAME 1 (roll 34) -> previous pick: 5 | current pick: 6\n",
      "\n",
      "GAME 2 (roll 1) -> first pick: 4\n",
      "GAME 2 (roll 2) -> previous pick: 4 | current pick: 1\n",
      "GAME 2 (roll 3) -> previous pick: 1 | current pick: 3\n",
      "GAME 2 (roll 4) -> previous pick: 3 | current pick: 4\n",
      "GAME 2 (roll 5) -> previous pick: 4 | current pick: 1\n",
      "GAME 2 (roll 6) -> previous pick: 1 | current pick: 3\n",
      "GAME 2 (roll 7) -> previous pick: 3 | current pick: 4\n",
      "GAME 2 (roll 8) -> previous pick: 4 | current pick: 6\n",
      "GAME 2 (roll 9) -> previous pick: 6 | current pick: 6\n",
      "GAME 2 (roll 10) -> previous pick: 6 | current pick: 6\n",
      "GAME 2 (roll 11) -> previous pick: 6 | current pick: 1\n",
      "GAME 2 (roll 12) -> previous pick: 1 | current pick: 5\n",
      "GAME 2 (roll 13) -> previous pick: 5 | current pick: 6\n",
      "GAME 2 (roll 14) -> previous pick: 6 | current pick: 5\n",
      "GAME 2 (roll 15) -> previous pick: 5 | current pick: 4\n",
      "GAME 2 (roll 16) -> previous pick: 4 | current pick: 3\n",
      "GAME 2 (roll 17) -> previous pick: 3 | current pick: 6\n",
      "GAME 2 (roll 18) -> previous pick: 6 | current pick: 1\n",
      "GAME 2 (roll 19) -> previous pick: 1 | current pick: 5\n",
      "GAME 2 (roll 20) -> previous pick: 5 | current pick: 3\n",
      "GAME 2 (roll 21) -> previous pick: 3 | current pick: 3\n",
      "GAME 2 (roll 22) -> previous pick: 3 | current pick: 3\n",
      "GAME 2 (roll 23) -> previous pick: 3 | current pick: 3\n",
      "GAME 2 (roll 24) -> previous pick: 3 | current pick: 4\n",
      "GAME 2 (roll 25) -> previous pick: 4 | current pick: 2\n",
      "GAME 2 (roll 26) -> previous pick: 2 | current pick: 3\n",
      "GAME 2 (roll 27) -> previous pick: 3 | current pick: 4\n",
      "GAME 2 (roll 28) -> previous pick: 4 | current pick: 4\n",
      "GAME 2 (roll 29) -> previous pick: 4 | current pick: 5\n",
      "GAME 2 (roll 30) -> previous pick: 5 | current pick: 5\n"
     ]
    },
    {
     "data": {
      "text/plain": [
       "'Expected value for Game1 is 34 while Game2 is 30'"
      ]
     },
     "execution_count": 223,
     "metadata": {},
     "output_type": "execute_result"
    }
   ],
   "source": [
    "simulateGames()"
   ]
  },
  {
   "cell_type": "markdown",
   "metadata": {},
   "source": [
    "### Daily Coding Problem: Problem #179 [Medium]\n",
    "\n",
    "This problem was asked by Google.\n",
    "\n",
    "Given the sequence of keys visited by a postorder traversal of a binary search tree, reconstruct the tree.\n",
    "\n",
    "For example, given the sequence 2, 4, 3, 8, 7, 5, you should construct the following tree:\n",
    "\n",
    "        5\n",
    "       / \\\n",
    "      3   7\n",
    "     / \\   \\\n",
    "    2   4   8"
   ]
  },
  {
   "cell_type": "code",
   "execution_count": 259,
   "metadata": {},
   "outputs": [],
   "source": [
    "class Node:\n",
    "    def __init__ (self, val, left = None, right = None):\n",
    "        self.val = val\n",
    "        self.left = left\n",
    "        self.right = right\n",
    "\n",
    "def reconstructPostorder(postorder):\n",
    "    if postorder is None: return None\n",
    "    \n",
    "    root = Node(postorder[-1])\n",
    "    \n",
    "    # Iterating backwards\n",
    "    # If current node value is less than 'i', keep moving right\n",
    "    # Else keep moving left\n",
    "    # When current node is None, set it to 'i'\n",
    "    for i in range(len(postorder)-2, -1, -1):\n",
    "        cur = root\n",
    "        while cur is not None:\n",
    "            if cur.val < postorder[i]:\n",
    "                if cur.right is None:\n",
    "                    cur.right = Node(postorder[i])\n",
    "                    break\n",
    "                cur = cur.right   \n",
    "            else:\n",
    "                if cur.left is None:\n",
    "                    cur.left = Node(postorder[i])\n",
    "                    break\n",
    "                cur = cur.left\n",
    "    return root"
   ]
  },
  {
   "cell_type": "code",
   "execution_count": 260,
   "metadata": {},
   "outputs": [
    {
     "name": "stdout",
     "output_type": "stream",
     "text": [
      "[5, 3, 7, 2, 4, None, 8]\n"
     ]
    }
   ],
   "source": [
    "# Test Code\n",
    "\n",
    "postorder = [2,4,3,8,7,5]\n",
    "\n",
    "tree = reconstructPostorder(postorder)\n",
    "print([tree.val, tree.left.val, tree.right.val, tree.left.left.val, tree.left.right.val, tree.right.left, tree.right.right.val])"
   ]
  },
  {
   "cell_type": "markdown",
   "metadata": {},
   "source": [
    "### Daily Coding Problem: Problem #180 [Medium]\n",
    "\n",
    "This problem was asked by Google.\n",
    "\n",
    "Given a stack of N elements, interleave the first half of the stack with the second half reversed using only one other queue. This should be done in-place.\n",
    "\n",
    "Recall that you can only push or pop from a stack, and enqueue or dequeue from a queue.\n",
    "\n",
    "For example,\n",
    "- if the stack is [1, 2, 3, 4, 5], it should become [1, 5, 2, 4, 3].\n",
    "- If the stack is [1, 2, 3, 4], it should become [1, 4, 2, 3].\n",
    "\n",
    "Hint: Try working backwards from the end state."
   ]
  },
  {
   "cell_type": "code",
   "execution_count": 261,
   "metadata": {},
   "outputs": [],
   "source": [
    "def interleaveStack(stack):\n",
    "    queue = []\n",
    "    if len(stack)%2 == 0: i = j = int(len(stack)/2)\n",
    "    else: i = int(len(stack)/2); j = i+1\n",
    "    \n",
    "    # From the element in the middle of the list, append left and right to queue\n",
    "    # continously iterate left and right till i gets to 0\n",
    "    while i > 0:\n",
    "        if i == j: queue.append(stack[i])\n",
    "        else:\n",
    "            queue.append(stack[i])\n",
    "            queue.append(stack[j])\n",
    "        i-=1; j+=1\n",
    "    # pop each item from the queue and set the value at stack\n",
    "    for v in range(len(queue)):\n",
    "        stack[v+1] = queue.pop()\n",
    "    return stack"
   ]
  },
  {
   "cell_type": "code",
   "execution_count": 262,
   "metadata": {},
   "outputs": [
    {
     "data": {
      "text/plain": [
       "[1, 5, 2, 4, 3]"
      ]
     },
     "execution_count": 262,
     "metadata": {},
     "output_type": "execute_result"
    }
   ],
   "source": [
    "# Test Code\n",
    "\n",
    "inputArr1 =  [1, 2, 3, 4, 5]\n",
    "inputArr2 =  [1, 2, 3, 4]\n",
    "\n",
    "interleaveStack(inputArr1)"
   ]
  },
  {
   "cell_type": "code",
   "execution_count": 263,
   "metadata": {},
   "outputs": [
    {
     "data": {
      "text/plain": [
       "[1, 4, 2, 3]"
      ]
     },
     "execution_count": 263,
     "metadata": {},
     "output_type": "execute_result"
    }
   ],
   "source": [
    "interleaveStack(inputArr2)"
   ]
  },
  {
   "cell_type": "markdown",
   "metadata": {},
   "source": [
    "### Daily Coding Problem: Problem #181 [Hard]\n",
    "\n",
    "This problem was asked by Google.\n",
    "\n",
    "Given a string, split it into as few strings as possible such that each string is a palindrome.\n",
    "\n",
    "For example, given the input string \"racecarannakayak\", return [\"racecar\", \"anna\", \"kayak\"].\n",
    "\n",
    "Given the input string abc, return [\"a\", \"b\", \"c\"]."
   ]
  },
  {
   "cell_type": "code",
   "execution_count": 550,
   "metadata": {},
   "outputs": [],
   "source": [
    "def fewestPalindromes(s):\n",
    "    DP = [(0,0)] * (len(s)+1)\n",
    "    res = []\n",
    "    \n",
    "    for i in range(1,len(DP)):\n",
    "        count = 0\n",
    "        for j in range(1,i+1):\n",
    "            sub, idx = s[j-1:i], j\n",
    "            if sub == sub[::-1]:\n",
    "                if count:\n",
    "                    if count[0] <= DP[j-1][0]+1:\n",
    "                        pass\n",
    "                    else: count = (DP[j-1][0]+1, idx)\n",
    "                else: count = (DP[j-1][0]+1, idx)\n",
    "        DP[i] = count\n",
    "\n",
    "    j = len(DP)-1\n",
    "    i = DP[j][1]\n",
    "    \n",
    "    while i >= 1:\n",
    "        res.append(s[i-1:j])\n",
    "        j = i-1\n",
    "        i = DP[j][1]\n",
    "        \n",
    "    return res[::-1]"
   ]
  },
  {
   "cell_type": "code",
   "execution_count": 552,
   "metadata": {},
   "outputs": [
    {
     "data": {
      "text/plain": [
       "['racecar', 'anna', 'kayak']"
      ]
     },
     "execution_count": 552,
     "metadata": {},
     "output_type": "execute_result"
    }
   ],
   "source": [
    "# Test Code\n",
    "\n",
    "string1 = \"racecarannakayak\"\n",
    "string2 = \"abc\"\n",
    "\n",
    "fewestPalindromes(string1)"
   ]
  },
  {
   "cell_type": "code",
   "execution_count": 553,
   "metadata": {},
   "outputs": [
    {
     "data": {
      "text/plain": [
       "['a', 'b', 'c']"
      ]
     },
     "execution_count": 553,
     "metadata": {},
     "output_type": "execute_result"
    }
   ],
   "source": [
    "fewestPalindromes(string2)"
   ]
  },
  {
   "cell_type": "markdown",
   "metadata": {},
   "source": [
    "### Daily Coding Problem: Problem #182 [Medium]\n",
    "\n",
    "This problem was asked by Facebook.\n",
    "\n",
    "A graph is minimally-connected if it is connected and there is no edge that can be removed while still leaving the graph connected. For example, any binary tree is minimally-connected.\n",
    "\n",
    "Given an undirected graph, check if the graph is minimally-connected. You can choose to represent the graph as either an adjacency matrix or adjacency list."
   ]
  },
  {
   "cell_type": "code",
   "execution_count": 74,
   "metadata": {},
   "outputs": [],
   "source": [
    "from collections import defaultdict"
   ]
  },
  {
   "cell_type": "code",
   "execution_count": 88,
   "metadata": {},
   "outputs": [],
   "source": [
    "class Graph:\n",
    "    def __init__ (self):\n",
    "        self.graph = defaultdict(list)\n",
    "\n",
    "    def add_edge(self, x, y):\n",
    "        self.graph[x].append(y)\n",
    "        self.graph[y].append(x)\n",
    "    \n",
    "    def find_parent(self, parent, x):\n",
    "        while True:\n",
    "            val = x\n",
    "            x = parent[val]\n",
    "            if x == -1:\n",
    "                return val\n",
    "    \n",
    "    def isMinimallyConnected(self):\n",
    "        parents = {}\n",
    "        for k in self.graph:\n",
    "            parents[k] = -1\n",
    "            \n",
    "        seen = set()\n",
    "        for i in self.graph:\n",
    "            for j in self.graph[i]:\n",
    "                if (j, i) not in seen:\n",
    "                    i_par = self.find_parent(parents, i)\n",
    "                    j_par = self.find_parent(parents, j)\n",
    "                    if i_par == j_par:\n",
    "                        return False\n",
    "                    parents[j_par] = i_par\n",
    "                seen.add((i, j))\n",
    "        return True"
   ]
  },
  {
   "cell_type": "markdown",
   "metadata": {},
   "source": [
    "### Daily Coding Problem: Problem #183 [Hard]\n",
    "\n",
    "This problem was asked by Twitch.\n",
    "\n",
    "Describe what happens when you type a URL into your browser and press Enter."
   ]
  },
  {
   "cell_type": "markdown",
   "metadata": {},
   "source": [
    "#### ANSWER TO QUSETION\n",
    "\n",
    "- STEP 1: You enter a URL into a web browser\n",
    "- STEP 2: The browser looks up the IP address for the domain name via DNS\n",
    "- STEP 3: The browser initiates a TCP connection with the server.\n",
    "- STEP 4: The browser sends a HTTP request to the server\n",
    "- STEP 5: The server sends back a HTTP response\n",
    "- STEP 6: The browser begins rendering the HTML\n",
    "- STEP 7: The browser sends requests for additional objects embedded in HTML (images, css, JavaScript) and repeats steps 4-6.\n",
    "- STEP 8: Once the page is loaded, the browser sends further async requests as needed."
   ]
  },
  {
   "cell_type": "markdown",
   "metadata": {},
   "source": [
    "### Daily Coding Problem: Problem #184 [Easy]\n",
    "\n",
    "This problem was asked by Amazon.\n",
    "\n",
    "Given n numbers, find the greatest common denominator between them.\n",
    "\n",
    "For example, given the numbers [42, 56, 14], return 14."
   ]
  },
  {
   "cell_type": "code",
   "execution_count": 555,
   "metadata": {},
   "outputs": [],
   "source": [
    "def greatestCommonDenom(nums):\n",
    "    if not nums: return 0\n",
    "    \n",
    "    res = nums[0]\n",
    "    for num in nums:\n",
    "        while num:\n",
    "            res, num = num, res%num\n",
    "    return res"
   ]
  },
  {
   "cell_type": "code",
   "execution_count": 566,
   "metadata": {},
   "outputs": [
    {
     "data": {
      "text/plain": [
       "14"
      ]
     },
     "execution_count": 566,
     "metadata": {},
     "output_type": "execute_result"
    }
   ],
   "source": [
    "# Test Code\n",
    "\n",
    "nums = [42, 56, 14]\n",
    "greatestCommonDenom(nums)"
   ]
  },
  {
   "cell_type": "markdown",
   "metadata": {},
   "source": [
    "### Daily Coding Problem: Problem #185 [Easy]\n",
    "\n",
    "This problem was asked by Google.\n",
    "\n",
    "Given two rectangles on a 2D graph, return the area of their intersection. If the rectangles don't intersect, return 0.\n",
    "\n",
    "For example, given the following rectangles:\n",
    "\n",
    "{    \"top_left\": (1, 4),\n",
    "    \"dimensions\": (3, 3) # width, height\n",
    "}\n",
    "\n",
    "and\n",
    "\n",
    "{    \"top_left\": (0, 5),\n",
    "    \"dimensions\": (4, 3) # width, height\n",
    "}\n",
    "\n",
    "return 6."
   ]
  },
  {
   "cell_type": "code",
   "execution_count": 745,
   "metadata": {},
   "outputs": [],
   "source": [
    "def intersection_area(A, B):\n",
    "    \n",
    "    A_left_x, B_left_x = A[\"top_left\"][0], B[\"top_left\"][0]\n",
    "    A_top_y, B_top_y = A[\"top_left\"][1], B[\"top_left\"][1]\n",
    "    A_width, B_width = A[\"dimensions\"][0], B[\"dimensions\"][0]\n",
    "    A_height, B_height = A[\"dimensions\"][1], B[\"dimensions\"][1]\n",
    "    \n",
    "    rec_left_x = max(A_left_x, B_left_x)\n",
    "    rec_right_x = min(A_left_x + A_width, B_left_x + B_width)\n",
    "    rec_top_y = min(A_top_y, B_top_y)\n",
    "    rec_bottom_y = max(A_top_y - A_height, B_top_y - B_height)\n",
    "    \n",
    "    if rec_right_x < rec_left_x or rec_top_y < rec_bottom_y:\n",
    "        return 0\n",
    "    return (rec_right_x - rec_left_x) * (rec_top_y - rec_bottom_y)"
   ]
  },
  {
   "cell_type": "code",
   "execution_count": 748,
   "metadata": {},
   "outputs": [
    {
     "data": {
      "text/plain": [
       "6"
      ]
     },
     "execution_count": 748,
     "metadata": {},
     "output_type": "execute_result"
    }
   ],
   "source": [
    "# Test Code\n",
    "\n",
    "rectangle1 = { \"top_left\": (1, 4),\n",
    "               \"dimensions\": (3, 3)}\n",
    "rectangle2 = { \"top_left\": (1, 5),\n",
    "               \"dimensions\": (4, 3)}\n",
    "\n",
    "intersection_area(rectangle1, rectangle2)"
   ]
  },
  {
   "cell_type": "markdown",
   "metadata": {},
   "source": [
    "### Daily Coding Problem: Problem #186 [Hard]\n",
    "\n",
    "This problem was asked by Microsoft.\n",
    "\n",
    "Given an array of positive integers, divide the array into two subsets such that the difference between the sum of the subsets is as small as possible.\n",
    "\n",
    "For example, given [5, 10, 15, 20, 25], return the sets {10, 25} and {5, 15, 20}, which has a difference of 5, which is the smallest possible difference."
   ]
  },
  {
   "cell_type": "code",
   "execution_count": 2,
   "metadata": {},
   "outputs": [],
   "source": [
    "def find_min(A, sumA, B, sumB, diff):\n",
    "\n",
    "    next_arr = None\n",
    "    for i in range(len(A)):\n",
    "        newsumA, newsumB = sumA - A[i], sumB + A[i]\n",
    "        newdiff = abs(newsumA - newsumB)\n",
    "        if newdiff < diff:\n",
    "            diff = newdiff\n",
    "            next_arr = (A[:i] + A[i + 1:], newsumA, B + [A[i]], newsumB)\n",
    "\n",
    "    if not next_arr:\n",
    "        return (set(A), set(B))\n",
    "\n",
    "    return find_min(next_arr[0], next_arr[1], next_arr[2], next_arr[3], diff)\n",
    "\n",
    "\n",
    "def min_diff_partition(arr):\n",
    "    tot_sum = sum(arr)\n",
    "    return find_min(arr, tot_sum, [], 0, tot_sum)"
   ]
  },
  {
   "cell_type": "code",
   "execution_count": 3,
   "metadata": {},
   "outputs": [
    {
     "data": {
      "text/plain": [
       "({5, 15, 20}, {10, 25})"
      ]
     },
     "execution_count": 3,
     "metadata": {},
     "output_type": "execute_result"
    }
   ],
   "source": [
    "# Test Code\n",
    "\n",
    "array = [5, 10, 15, 20, 25]\n",
    "min_diff_partition([5, 10, 15, 20 ,25])"
   ]
  },
  {
   "cell_type": "markdown",
   "metadata": {},
   "source": [
    "### Daily Coding Problem: Problem #187 [Easy]\n",
    "\n",
    "This problem was asked by Google.\n",
    "\n",
    "You are given given a list of rectangles represented by min and max x- and y-coordinates. Compute whether or not a pair of rectangles overlap each other. If one rectangle completely covers another, it is considered overlapping.\n",
    "\n",
    "For example, given the following rectangles:\n",
    "\n",
    "{ \"top_left\": (1, 4),\n",
    " \"dimensions\": (3, 3) # width, height },\n",
    "\n",
    "{ \"top_left\": (-1, 3),\n",
    " \"dimensions\": (2, 1) },\n",
    "\n",
    "{ \"top_left\": (0, 5),\n",
    " \"dimensions\": (4, 3) }\n",
    "\n",
    "return true as the first and third rectangle overlap each other."
   ]
  },
  {
   "cell_type": "code",
   "execution_count": 88,
   "metadata": {},
   "outputs": [],
   "source": [
    "def completely_overlapping_pair(rectangles):\n",
    "    rectangles.sort(key = lambda x: (x[\"top_left\"][0], -x[\"top_left\"][1]))\n",
    "    \n",
    "    for i in range(len(rectangles)-1):\n",
    "        A = rectangles[i]\n",
    "        for j in range(i + 1, len(rectangles)):\n",
    "            B = rectangles[j]\n",
    "            if (A[\"top_left\"][0] + A[\"dimensions\"][0] >= B[\"top_left\"][0] + B[\"dimensions\"][0]) and \\\n",
    "                (A[\"top_left\"][1] >= B[\"top_left\"][1]) and \\\n",
    "                    (A[\"top_left\"][1] - A[\"dimensions\"][1] <= B[\"top_left\"][1] - B[\"dimensions\"][1]):\n",
    "                return True\n",
    "            \n",
    "    return False"
   ]
  },
  {
   "cell_type": "code",
   "execution_count": 92,
   "metadata": {},
   "outputs": [
    {
     "data": {
      "text/plain": [
       "False"
      ]
     },
     "execution_count": 92,
     "metadata": {},
     "output_type": "execute_result"
    }
   ],
   "source": [
    "# Test Code\n",
    "# NOTE: Example provided in the question is incorrect. It does not completely overlap as decribed in question\n",
    "\n",
    "r1 = ({\"top_left\": (1, 4), \"dimensions\": (3, 3)})\n",
    "r2 = ({\"top_left\": (-1, 3), \"dimensions\": (2, 1)})\n",
    "r3 = ({\"top_left\": (0, 5), \"dimensions\": (4, 3)})\n",
    "completely_overlapping_pair([r1, r2, r3])"
   ]
  },
  {
   "cell_type": "code",
   "execution_count": 93,
   "metadata": {},
   "outputs": [
    {
     "data": {
      "text/plain": [
       "True"
      ]
     },
     "execution_count": 93,
     "metadata": {},
     "output_type": "execute_result"
    }
   ],
   "source": [
    "r1 = ({\"top_left\": (1, 4), \"dimensions\": (3, 3)})\n",
    "r2 = ({\"top_left\": (-1, 3), \"dimensions\": (2, 1)})\n",
    "r3 = ({\"top_left\": (0, 5), \"dimensions\": (4, 4)})\n",
    "completely_overlapping_pair([r1, r2, r3])"
   ]
  },
  {
   "cell_type": "markdown",
   "metadata": {},
   "source": [
    "### Daily Coding Problem: Problem #188 [Medium]\n",
    "\n",
    "This problem was asked by Google.\n",
    "\n",
    "What will this code print out?\n",
    "\n",
    "    def make_functions():\n",
    "        flist = []\n",
    "\n",
    "        for i in [1, 2, 3]:\n",
    "            def print_i():\n",
    "                print(i)\n",
    "            flist.append(print_i)\n",
    "\n",
    "        return flist\n",
    "\n",
    "    functions = make_functions()\n",
    "    for f in functions:\n",
    "        f()\n",
    "        \n",
    "How can we make it print out what we apparently want?"
   ]
  },
  {
   "cell_type": "markdown",
   "metadata": {},
   "source": [
    "#### ANSWER TO QUESTION\n",
    "\n",
    "- The Code will print out: 3, 3, 3\n",
    "- The solution below would give us our desired output of 1, 2, 3"
   ]
  },
  {
   "cell_type": "code",
   "execution_count": 52,
   "metadata": {},
   "outputs": [
    {
     "name": "stdout",
     "output_type": "stream",
     "text": [
      "1\n",
      "2\n",
      "3\n"
     ]
    }
   ],
   "source": [
    "def make_functions():\n",
    "    flist = []\n",
    "\n",
    "    for i in [1, 2, 3]:\n",
    "        def print_i(i):\n",
    "            print(i)\n",
    "        flist.append((print_i, i))\n",
    "\n",
    "    return flist\n",
    "\n",
    "\n",
    "functions = make_functions()\n",
    "for f, i in functions:\n",
    "    f(i)"
   ]
  },
  {
   "cell_type": "markdown",
   "metadata": {},
   "source": [
    "### Daily Coding Problem: Problem #189 [Easy]\n",
    "\n",
    "This problem was asked by Google.\n",
    "\n",
    "Given an array of elements, return the length of the longest subarray where all its elements are distinct.\n",
    "\n",
    "For example, given the array [5, 1, 3, 5, 2, 3, 4, 1], return 5 as the longest subarray of distinct elements is [5, 2, 3, 4, 1]."
   ]
  },
  {
   "cell_type": "code",
   "execution_count": 109,
   "metadata": {},
   "outputs": [],
   "source": [
    "def longest_distinct_subarray(arr):\n",
    "    maxsub, count, store = 0, 0, {}\n",
    "\n",
    "    for i in range(0, len(arr)):\n",
    "        if arr[i] in store and i <= (count+store[arr[i]]):\n",
    "            count = min(count, i-store[arr[i]])\n",
    "        else: count+=1\n",
    "        store[arr[i]] = i\n",
    "        maxsub = max(count, maxsub)\n",
    "    return maxsub"
   ]
  },
  {
   "cell_type": "code",
   "execution_count": 110,
   "metadata": {},
   "outputs": [
    {
     "data": {
      "text/plain": [
       "5"
      ]
     },
     "execution_count": 110,
     "metadata": {},
     "output_type": "execute_result"
    }
   ],
   "source": [
    "longest_distinct_subarray([5, 1, 3, 5, 2, 3, 4, 1])"
   ]
  },
  {
   "cell_type": "markdown",
   "metadata": {},
   "source": [
    "### Daily Coding Problem: Problem #190 [Medium]\n",
    "\n",
    "This problem was asked by Facebook.\n",
    "\n",
    "Given a circular array, compute its maximum subarray sum in O(n) time. A subarray can be empty, and in this case the sum is 0.\n",
    "\n",
    "For example, given [8, -1, 3, 4], return 15 as we choose the numbers 3, 4, and 8 where the 8 is obtained from wrapping around.\n",
    "\n",
    "Given [-4, 5, 1, 0], return 6 as we choose the numbers 5 and 1"
   ]
  },
  {
   "cell_type": "code",
   "execution_count": 212,
   "metadata": {},
   "outputs": [],
   "source": [
    "def maxsubsum_circular_array(array):\n",
    "    if not array: return 0\n",
    "    \n",
    "    maxsum = minsum = array[0]\n",
    "    totalsum = maxcount = mincount = 0\n",
    "    for i in array:\n",
    "        maxcount +=i; mincount +=i; totalsum +=i\n",
    "        maxsum = max(maxcount, maxsum)\n",
    "        minsum = min(mincount, minsum)\n",
    "        if maxcount < 0: maxcount = 0\n",
    "        if mincount > 0: mincount = 0\n",
    "\n",
    "    if maxsum < 1 or totalsum - minsum < maxsum: return maxsum\n",
    "    return totalsum - minsum"
   ]
  },
  {
   "cell_type": "code",
   "execution_count": 213,
   "metadata": {},
   "outputs": [
    {
     "data": {
      "text/plain": [
       "15"
      ]
     },
     "execution_count": 213,
     "metadata": {},
     "output_type": "execute_result"
    }
   ],
   "source": [
    "# Test Code\n",
    "\n",
    "array1 = [8, -1, 3, 4]\n",
    "array2 = [-4, 5, 1, 0]\n",
    "\n",
    "maxsubsum_circular_array(array1)"
   ]
  },
  {
   "cell_type": "code",
   "execution_count": 214,
   "metadata": {},
   "outputs": [
    {
     "data": {
      "text/plain": [
       "6"
      ]
     },
     "execution_count": 214,
     "metadata": {},
     "output_type": "execute_result"
    }
   ],
   "source": [
    "maxsubsum_circular_array(array2)"
   ]
  },
  {
   "cell_type": "markdown",
   "metadata": {},
   "source": [
    "### Daily Coding Problem: Problem #191 [Easy]\n",
    "    \n",
    "This problem was asked by Stripe.\n",
    "\n",
    "Given a collection of intervals, find the minimum number of intervals you need to remove to make the rest of the intervals non-overlapping.\n",
    "\n",
    "Intervals can \"touch\", such as [0, 1] and [1, 2], but they won't be considered overlapping.\n",
    "\n",
    "For example, given the intervals (7, 9), (2, 4), (5, 8), return 1 as the last interval can be removed and the first two won't overlap.\n",
    "\n",
    "The intervals are not necessarily sorted in any order."
   ]
  },
  {
   "cell_type": "code",
   "execution_count": 289,
   "metadata": {},
   "outputs": [],
   "source": [
    "from collections import deque"
   ]
  },
  {
   "cell_type": "code",
   "execution_count": 292,
   "metadata": {},
   "outputs": [],
   "source": [
    "def eraseOverlapIntervals(intervals):\n",
    "    if len(intervals) < 2: return 0\n",
    "    \n",
    "    intervals.sort(key = lambda x: (x[0], x[1]))\n",
    "    queue = deque(intervals)\n",
    "\n",
    "    i = 0\n",
    "    while True:\n",
    "        if queue[i][1] > queue[i+1][0]:\n",
    "            if queue[i][1]>= queue[i+1][1]:\n",
    "                del queue[i]\n",
    "            else:\n",
    "                del queue[i+1]\n",
    "        else: i+=1\n",
    "        if i > len(queue)-2: break\n",
    "    return len(intervals) - len(queue)"
   ]
  },
  {
   "cell_type": "code",
   "execution_count": 293,
   "metadata": {},
   "outputs": [
    {
     "data": {
      "text/plain": [
       "1"
      ]
     },
     "execution_count": 293,
     "metadata": {},
     "output_type": "execute_result"
    }
   ],
   "source": [
    "# Test Code\n",
    "\n",
    "intervals = [(7, 9), (2, 4), (5, 8)]\n",
    "\n",
    "eraseOverlapIntervals(intervals)"
   ]
  },
  {
   "cell_type": "markdown",
   "metadata": {},
   "source": [
    "### Daily Coding Problem: Problem #192 [Medium]\n",
    "\n",
    "This problem was asked by Google.\n",
    "\n",
    "You are given an array of nonnegative integers. Let's say you start at the beginning of the array and are trying to advance to the end. You can advance at most, the number of steps that you're currently on. Determine whether you can get to the end of the array.\n",
    "\n",
    "For example, given the array [1, 3, 1, 2, 0, 1], we can go from indices 0 -> 1 -> 3 -> 5, so return true.\n",
    "\n",
    "Given the array [1, 2, 1, 0, 0], we can't reach the end, so return false"
   ]
  },
  {
   "cell_type": "code",
   "execution_count": 294,
   "metadata": {},
   "outputs": [],
   "source": [
    "def get_to_end(array):\n",
    "    reach = 1\n",
    "    for num in array:\n",
    "        reach = max(num, reach-1)\n",
    "        if reach == 0: return False\n",
    "    return True"
   ]
  },
  {
   "cell_type": "code",
   "execution_count": 295,
   "metadata": {},
   "outputs": [
    {
     "data": {
      "text/plain": [
       "True"
      ]
     },
     "execution_count": 295,
     "metadata": {},
     "output_type": "execute_result"
    }
   ],
   "source": [
    "# Test Code\n",
    "\n",
    "get_to_end([1, 3, 1, 2, 0, 1])"
   ]
  },
  {
   "cell_type": "markdown",
   "metadata": {},
   "source": [
    "### Daily Coding Problem: Problem #193 [Hard]\n",
    "\n",
    "This problem was asked by Affirm.\n",
    "\n",
    "Given a array of numbers representing the stock prices of a company in chronological order, write a function that calculates the maximum profit you could have made from buying and selling that stock. You're also given a number fee that represents a transaction fee for each buy and sell transaction.\n",
    "\n",
    "You must buy before you can sell the stock, but you can make as many transactions as you like.\n",
    "\n",
    "For example, given [1, 3, 2, 8, 4, 10] and fee = 2, you should return 9, since you could buy the stock at 1 dollar, and sell at 8 dollars, and then buy it at 4 dollars and sell it at 10 dollars. Since we did two transactions, there is a 4 dollar fee, so we have 7 + 6 = 13 profit minus 4 dollars of fees."
   ]
  },
  {
   "cell_type": "code",
   "execution_count": 148,
   "metadata": {},
   "outputs": [],
   "source": [
    "def maxProfit(prices, fee):\n",
    "    cash, hold = 0, -prices[0]\n",
    "    for i in range(1, len(prices)):\n",
    "        cash = max(cash, hold + prices[i] - fee)\n",
    "        hold = max(hold, cash - prices[i])\n",
    "\n",
    "    return cash"
   ]
  },
  {
   "cell_type": "code",
   "execution_count": 149,
   "metadata": {},
   "outputs": [
    {
     "data": {
      "text/plain": [
       "9"
      ]
     },
     "execution_count": 149,
     "metadata": {},
     "output_type": "execute_result"
    }
   ],
   "source": [
    "# Test Code\n",
    "\n",
    "prices, fee = [1, 3, 2, 8, 4, 10], 2\n",
    "maxProfit(prices, fee)"
   ]
  },
  {
   "cell_type": "markdown",
   "metadata": {},
   "source": [
    "### Daily Coding Problem: Problem #194 [Easy]\n",
    "    \n",
    "This problem was asked by Facebook.\n",
    "\n",
    "Suppose you are given two lists of n points, one list p1, p2, ..., pn on the line y = 0 and the other list q1, q2, ..., qn on the line y = 1. Imagine a set of n line segments connecting each point pi to qi. Write an algorithm to determine how many pairs of the line segments intersect."
   ]
  },
  {
   "cell_type": "code",
   "execution_count": 38,
   "metadata": {},
   "outputs": [],
   "source": [
    "def intersectingSegements(lineA, lineB):\n",
    "    segments = list(zip(lineA, lineB))\n",
    "    segments.sort(key = lambda x: x[0])\n",
    "\n",
    "    count = 0\n",
    "    for i in range(len(segments)-1):\n",
    "        for j in range(i+1, len(segments)):\n",
    "            if segments[i][1] > segments[j][1]:\n",
    "                count+=1\n",
    "    return count"
   ]
  },
  {
   "cell_type": "markdown",
   "metadata": {},
   "source": [
    "### Daily Coding Problem: Problem #195 [Hard]\n",
    "\n",
    "This problem was asked by Google.\n",
    "\n",
    "Let A be an N by M matrix in which every row and every column is sorted.\n",
    "\n",
    "Given i1, j1, i2, and j2, compute the number of elements of M smaller than M[i1, j1] and larger than M[i2, j2].\n",
    "\n",
    "For example, given the following matrix:\n",
    "\n",
    "    [[1,  3,  7,  10, 15, 20],\n",
    "     [2,  6,  9,  14, 22, 25],\n",
    "     [3,  8,  10, 15, 25, 30],\n",
    "     [10, 11, 12, 23, 30, 35],\n",
    "     [20, 25, 30, 35, 40, 45]]\n",
    " \n",
    "And i1 = 1, j1 = 1, i2 = 3, j2 = 3, return 15 as there are 15 numbers in the matrix smaller than 6 or greater than 23."
   ]
  },
  {
   "cell_type": "code",
   "execution_count": 141,
   "metadata": {},
   "outputs": [],
   "source": [
    "def countSmallerAndLarger(matrix, i1, j1, i2, j2):\n",
    "    \n",
    "    count = 0\n",
    "    for row in matrix:\n",
    "        count+= len([x for x in row if x < matrix[i1][j1] or x > matrix[i2][j2]])\n",
    "    return count"
   ]
  },
  {
   "cell_type": "code",
   "execution_count": 142,
   "metadata": {},
   "outputs": [
    {
     "data": {
      "text/plain": [
       "14"
      ]
     },
     "execution_count": 142,
     "metadata": {},
     "output_type": "execute_result"
    }
   ],
   "source": [
    "# Test Code\n",
    "# NOTE: Example provided in the question has an incorrect answer. It should be 14 and not 15\n",
    "\n",
    "matrix = [[1,  3,  7,  10, 15, 20],\n",
    "          [2,  6,  9,  14, 22, 25],\n",
    "          [3,  8,  10, 15, 25, 30],\n",
    "          [10, 11, 12, 23, 30, 35],\n",
    "          [20, 25, 30, 35, 40, 45]]\n",
    "\n",
    "i1 = 1; j1 = 1; i2 = 3; j2 = 3\n",
    "\n",
    "countSmallerAndLarger(matrix, i1, j1, i2, j2)"
   ]
  },
  {
   "cell_type": "markdown",
   "metadata": {},
   "source": [
    "### Daily Coding Problem: Problem #196 [Easy]\n",
    "\n",
    "This problem was asked by Apple.\n",
    "\n",
    "Given the root of a binary tree, find the most frequent subtree sum. The subtree sum of a node is the sum of all values under a node, including the node itself.\n",
    "\n",
    "For example, given the following tree:\n",
    "\n",
    "      5\n",
    "     / \\\n",
    "    2  -5\n",
    "Return 2 as it occurs twice: once as the left leaf, and once as the sum of 2 + 5 - 5"
   ]
  },
  {
   "cell_type": "code",
   "execution_count": 146,
   "metadata": {},
   "outputs": [],
   "source": [
    "from collections import defaultdict"
   ]
  },
  {
   "cell_type": "code",
   "execution_count": 147,
   "metadata": {},
   "outputs": [],
   "source": [
    "def mostFreqSubSum(root):\n",
    "    store = defaultdict(int)\n",
    "    def dfs(node):\n",
    "        if node is None: return 0\n",
    "        nodesum = node.val + dfs(node.left) + dfs(node.right)\n",
    "        store[nodesum] += 1\n",
    "        return nodesum\n",
    "\n",
    "    dfs(root)\n",
    "    if not store: return []\n",
    "    mostfreq = max(store.values())\n",
    "    res = [k for k, v in store.items() if v == mostfreq]\n",
    "    return res"
   ]
  },
  {
   "cell_type": "code",
   "execution_count": 150,
   "metadata": {},
   "outputs": [
    {
     "data": {
      "text/plain": [
       "[2]"
      ]
     },
     "execution_count": 150,
     "metadata": {},
     "output_type": "execute_result"
    }
   ],
   "source": [
    "# Test Code\n",
    "\n",
    "class Node:\n",
    "    def __init__(self, val, right = None, left = None):\n",
    "        self.val = val\n",
    "        self.right = None\n",
    "        self.left = None\n",
    "\n",
    "root = Node(5)\n",
    "root.left = Node(2)\n",
    "root.right = Node(-5)\n",
    "\n",
    "mostFreqSubSum(root)"
   ]
  },
  {
   "cell_type": "markdown",
   "metadata": {},
   "source": [
    "### Daily Coding Problem: Problem #198 [Medium]\n",
    "\n",
    "This problem was asked by Google.\n",
    "\n",
    "Given a set of distinct positive integers, find the largest subset such that every pair of elements in the subset (i, j) satisfies either i % j = 0 or j % i = 0.\n",
    "\n",
    "For example, given the set [3, 5, 10, 20, 21], you should return [5, 10, 20]. Given [1, 3, 6, 24], return [1, 3, 6, 24]."
   ]
  },
  {
   "cell_type": "code",
   "execution_count": 4,
   "metadata": {},
   "outputs": [],
   "source": [
    "def longestDivisiblePairSubset(nums):\n",
    "    if not nums: return []\n",
    "    nums.sort()\n",
    "    length = [0]*len(nums)\n",
    "    par = [None]*len(nums)\n",
    "    for i in range(len(nums)-1):\n",
    "        for j in range(i+1, len(nums)):\n",
    "            if nums[j] % nums[i] == 0:\n",
    "                if length[i] >= length[j]:\n",
    "                    length[j] = length[i]+1\n",
    "                    par[j] = i\n",
    "    res = []\n",
    "    max_len = max(length)\n",
    "    idx = length.index(max_len)\n",
    "\n",
    "    while idx is not None:\n",
    "        res.append(nums[idx])\n",
    "        idx = par[idx]\n",
    "    return res[::-1]"
   ]
  },
  {
   "cell_type": "code",
   "execution_count": 5,
   "metadata": {},
   "outputs": [
    {
     "data": {
      "text/plain": [
       "[5, 10, 20]"
      ]
     },
     "execution_count": 5,
     "metadata": {},
     "output_type": "execute_result"
    }
   ],
   "source": [
    "# Test Code\n",
    "\n",
    "nums1 = [3, 5, 10, 20, 21]\n",
    "nums2 = [1, 3, 6, 24]\n",
    "\n",
    "longestDivisiblePairSubset(nums1)"
   ]
  },
  {
   "cell_type": "code",
   "execution_count": 6,
   "metadata": {},
   "outputs": [
    {
     "data": {
      "text/plain": [
       "[1, 3, 6, 24]"
      ]
     },
     "execution_count": 6,
     "metadata": {},
     "output_type": "execute_result"
    }
   ],
   "source": [
    "longestDivisiblePairSubset(nums2)"
   ]
  },
  {
   "cell_type": "markdown",
   "metadata": {},
   "source": [
    "### Daily Coding Problem: Problem #199 [Hard]\n",
    "\n",
    "This problem was asked by Facebook.\n",
    "\n",
    "Given a string of parentheses, find the balanced string that can be produced from it using the minimum number of insertions and deletions. If there are multiple solutions, return any of them.\n",
    "\n",
    "For example, given \"(()\", you could return \"(())\". Given \"))()(\", you could return \"()()()()\"."
   ]
  },
  {
   "cell_type": "code",
   "execution_count": 187,
   "metadata": {},
   "outputs": [],
   "source": [
    "def minInsertAndDelete(s):\n",
    "    l = r = 0\n",
    "    s = list(s)\n",
    "    for i in range(len(s)):\n",
    "        if s[i] == ')':\n",
    "            if l == 0: s[i] = ''\n",
    "            else: l-=1\n",
    "        else: l+=1\n",
    "    s += [')']*l\n",
    "    return \"\".join(s)"
   ]
  },
  {
   "cell_type": "code",
   "execution_count": 188,
   "metadata": {},
   "outputs": [
    {
     "data": {
      "text/plain": [
       "'(())'"
      ]
     },
     "execution_count": 188,
     "metadata": {},
     "output_type": "execute_result"
    }
   ],
   "source": [
    "# Test Code\n",
    "\n",
    "s1 = \"(()\"\n",
    "s2 = \"))()(\"\n",
    "\n",
    "minInsertAndDelete(s1)"
   ]
  },
  {
   "cell_type": "code",
   "execution_count": 189,
   "metadata": {},
   "outputs": [
    {
     "data": {
      "text/plain": [
       "'()()'"
      ]
     },
     "execution_count": 189,
     "metadata": {},
     "output_type": "execute_result"
    }
   ],
   "source": [
    "minInsertAndDelete(s2)"
   ]
  },
  {
   "cell_type": "markdown",
   "metadata": {},
   "source": [
    "### Daily Coding Problem: Problem #200 [Hard]\n",
    "\n",
    "This problem was asked by Microsoft.\n",
    "\n",
    "Let X be a set of n intervals on the real line. We say that a set of points P \"stabs\" X if every interval in X contains at least one point in P. Compute the smallest set of points that stabs X.\n",
    "\n",
    "For example, given the intervals [(1, 4), (4, 5), (7, 9), (9, 12)], you should return [4, 9]."
   ]
  },
  {
   "cell_type": "code",
   "execution_count": 50,
   "metadata": {},
   "outputs": [],
   "source": [
    "def smallestStabbingInterval(intervals):\n",
    "    return [min([x[1] for x in intervals]), max([x[0] for x in intervals])]"
   ]
  },
  {
   "cell_type": "code",
   "execution_count": 51,
   "metadata": {},
   "outputs": [
    {
     "data": {
      "text/plain": [
       "[4, 9]"
      ]
     },
     "execution_count": 51,
     "metadata": {},
     "output_type": "execute_result"
    }
   ],
   "source": [
    "# Test Code\n",
    "\n",
    "intervals = [(1, 4), (4, 5), (7, 9), (9, 12)]\n",
    "smallestStabbingInterval(intervals)"
   ]
  },
  {
   "cell_type": "markdown",
   "metadata": {},
   "source": [
    "### Daily Coding Problem: Problem #201 [Easy]\n",
    "\n",
    "This problem was asked by Google.\n",
    "\n",
    "You are given an array of arrays of integers, where each array corresponds to a row in a triangle of numbers. For example, [[1], [2, 3], [1, 5, 1]] represents the triangle:\n",
    "\n",
    "      1\n",
    "     2 3\n",
    "    1 5 1\n",
    "    \n",
    "We define a path in the triangle to start at the top and go down one row at a time to an adjacent value, eventually ending with an entry on the bottom row. For example, 1 -> 3 -> 5. The weight of the path is the sum of the entries.\n",
    "\n",
    "Write a program that returns the weight of the maximum weight path."
   ]
  },
  {
   "cell_type": "code",
   "execution_count": 10,
   "metadata": {},
   "outputs": [],
   "source": [
    "def maxPathWeight(triangle):\n",
    "    for i in range(len(triangle)-2,-1,-1):\n",
    "        for j in range(len(triangle[i])):\n",
    "            triangle[i][j]+=max(triangle[i+1][j],triangle[i+1][j+1])\n",
    "    return triangle[0][0]"
   ]
  },
  {
   "cell_type": "code",
   "execution_count": 11,
   "metadata": {},
   "outputs": [
    {
     "data": {
      "text/plain": [
       "9"
      ]
     },
     "execution_count": 11,
     "metadata": {},
     "output_type": "execute_result"
    }
   ],
   "source": [
    "# Test Code\n",
    "\n",
    "triangle = [[1], [2, 3], [1, 5, 1]]\n",
    "\n",
    "maxPathWeight(triangle)"
   ]
  },
  {
   "cell_type": "markdown",
   "metadata": {},
   "source": [
    "### Daily Coding Problem: Problem #202 [Easy]\n",
    "\n",
    "Write a program that checks whether an integer is a palindrome. For example, 121 is a palindrome, as well as 888. 678 is not a palindrome. Do not convert the integer into a string."
   ]
  },
  {
   "cell_type": "code",
   "execution_count": 46,
   "metadata": {},
   "outputs": [],
   "source": [
    "def isIntegerPalindrome(num):\n",
    "    left = 1\n",
    "    while num//(10**left) > 0: left += 1\n",
    "    left-=1\n",
    "\n",
    "    while num:\n",
    "        if (num % 10) != (num // 10**left):\n",
    "            return False\n",
    "        num = (num % 10**left) // 10\n",
    "        left -=2\n",
    "    return True"
   ]
  },
  {
   "cell_type": "code",
   "execution_count": 47,
   "metadata": {},
   "outputs": [
    {
     "data": {
      "text/plain": [
       "True"
      ]
     },
     "execution_count": 47,
     "metadata": {},
     "output_type": "execute_result"
    }
   ],
   "source": [
    "# Test Code\n",
    "\n",
    "num1 = 121\n",
    "num2 = 888\n",
    "num3 = 678\n",
    "\n",
    "isIntegerPalindrome(num1)"
   ]
  },
  {
   "cell_type": "code",
   "execution_count": 48,
   "metadata": {},
   "outputs": [
    {
     "data": {
      "text/plain": [
       "True"
      ]
     },
     "execution_count": 48,
     "metadata": {},
     "output_type": "execute_result"
    }
   ],
   "source": [
    "isIntegerPalindrome(num2)"
   ]
  },
  {
   "cell_type": "code",
   "execution_count": 49,
   "metadata": {},
   "outputs": [
    {
     "data": {
      "text/plain": [
       "False"
      ]
     },
     "execution_count": 49,
     "metadata": {},
     "output_type": "execute_result"
    }
   ],
   "source": [
    "isIntegerPalindrome(num3)"
   ]
  }
 ],
 "metadata": {
  "kernelspec": {
   "display_name": "Python 3",
   "language": "python",
   "name": "python3"
  },
  "language_info": {
   "codemirror_mode": {
    "name": "ipython",
    "version": 3
   },
   "file_extension": ".py",
   "mimetype": "text/x-python",
   "name": "python",
   "nbconvert_exporter": "python",
   "pygments_lexer": "ipython3",
   "version": "3.6.7"
  }
 },
 "nbformat": 4,
 "nbformat_minor": 2
}
