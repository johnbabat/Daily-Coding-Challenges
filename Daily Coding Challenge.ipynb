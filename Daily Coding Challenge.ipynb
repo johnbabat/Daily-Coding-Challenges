{
 "cells": [
  {
   "cell_type": "markdown",
   "metadata": {},
   "source": [
    "### Daily Coding Problem: Problem #122 [Medium]\n",
    "\n",
    "This question was asked by Zillow.\n",
    "\n",
    "You are given a 2-d matrix where each cell represents number of coins in that cell. Assuming we start at matrix[0][0], and can only move right or down, find the maximum number of coins you can collect by the bottom right corner.\n",
    "\n",
    "For example, in this matrix\n",
    "\n"
   ]
  },
  {
   "cell_type": "markdown",
   "metadata": {},
   "source": [
    "    0 3 1 1\n",
    "    2 0 0 4\n",
    "    1 5 3 1 "
   ]
  },
  {
   "cell_type": "markdown",
   "metadata": {},
   "source": [
    "The most we can collect is 0 + 2 + 1 + 5 + 3 + 1 = 12 coins."
   ]
  },
  {
   "cell_type": "code",
   "execution_count": 1,
   "metadata": {},
   "outputs": [],
   "source": [
    "#    The approach I took is to create a new matrix same size as the input and then replace each cell with the sum of the the value of the cell and the maximum of the top and left cell.\n",
    "#    The new array would have the macimum path at the bottom right\n",
    "\n",
    "def max_coins(matrix):\n",
    "    new_matrix = matrix\n",
    "    for i in range(len(new_matrix)):\n",
    "        for j in range(len(new_matrix[0])):\n",
    "            if i == 0 and j == 0:\n",
    "                pass\n",
    "            elif i == 0:\n",
    "                new_matrix[i][j] += new_matrix[i][j-1]\n",
    "            elif j == 0:\n",
    "                new_matrix[i][j] += new_matrix[i-1][j]\n",
    "            else:\n",
    "                new_matrix[i][j] += max(new_matrix[i-1][j], new_matrix[i][j-1])\n",
    "    return new_matrix[-1][-1]"
   ]
  },
  {
   "cell_type": "code",
   "execution_count": 2,
   "metadata": {},
   "outputs": [
    {
     "data": {
      "text/plain": [
       "12"
      ]
     },
     "execution_count": 2,
     "metadata": {},
     "output_type": "execute_result"
    }
   ],
   "source": [
    "# TEST CODE\n",
    "\n",
    "mat = [[0,3,1,1], [2,0,0,4], [1,5,3,1]]\n",
    "max_coins(mat)"
   ]
  },
  {
   "cell_type": "markdown",
   "metadata": {},
   "source": [
    "### Daily Coding Problem: Problem #123 [Hard]\n",
    "\n",
    "This problem was asked by LinkedIn.\n",
    "\n",
    "Given a string, return whether it represents a number. Here are the different kinds of numbers:\n",
    "\n",
    "- \"10\", a positive integer\n",
    "- \"-10\", a negative integer\n",
    "- \"10.1\", a positive real number\n",
    "- \"-10.1\", a negative real number\n",
    "- \"1e5\", a number in scientific notation\n",
    "\n",
    "And here are examples of non-numbers:\n",
    "\n",
    "- \"a\"\n",
    "- \"x 1\"\n",
    "- \"a -2\"\n",
    "- \"-\""
   ]
  },
  {
   "cell_type": "code",
   "execution_count": 3,
   "metadata": {},
   "outputs": [],
   "source": [
    "#    The approach I took is to check if the string is a number in scientific notation\n",
    "#    if not check if it's a floating, if not check if it's an integer\n",
    "#    if it is any of the above return 'is a number' else return 'is NOT a number'\n",
    "\n",
    "def number_or_not(string):\n",
    "    if string.count(\"e\") == 1:\n",
    "        if string.index(\"e\") != 0 and string.index(\"e\") != len(string):\n",
    "            string.replace(\"e\", \"\")\n",
    "    try:\n",
    "        float(string)\n",
    "    except:\n",
    "        try:\n",
    "            int(string)\n",
    "        except:\n",
    "            return 'is NOT a number'\n",
    "    return 'is a number'"
   ]
  },
  {
   "cell_type": "code",
   "execution_count": 4,
   "metadata": {},
   "outputs": [
    {
     "name": "stdout",
     "output_type": "stream",
     "text": [
      "10 is a number\n",
      "-10 is a number\n",
      "10.1 is a number\n",
      "-10.1 is a number\n",
      "1e5 is a number\n",
      "a is NOT a number\n",
      "x 1 is NOT a number\n",
      "a -2 is NOT a number\n",
      "- is NOT a number\n"
     ]
    }
   ],
   "source": [
    "# TEST CODE\n",
    "\n",
    "print(\"10\", number_or_not(\"10\"))\n",
    "print(\"-10\", number_or_not(\"-10\"))\n",
    "print(\"10.1\", number_or_not(\"10.1\"))\n",
    "print(\"-10.1\", number_or_not(\"-10.1\"))\n",
    "print(\"1e5\", number_or_not(\"1e5\"))\n",
    "print(\"a\", number_or_not(\"a\"))\n",
    "print(\"x 1\", number_or_not(\"x 1\"))\n",
    "print(\"a -2\", number_or_not(\"a -2\"))\n",
    "print(\"-\", number_or_not(\"-\"))"
   ]
  },
  {
   "cell_type": "markdown",
   "metadata": {},
   "source": [
    "### Daily Coding Problem: Problem #124 [Easy]\n",
    "\n",
    "This problem was asked by Microsoft.\n",
    "\n",
    "You have n fair coins and you flip them all at the same time. Any that come up tails you set aside. The ones that come up heads you flip again. How many rounds do you expect to play before only one coin remains?\n",
    "\n",
    "Write a function that, given n, returns the number of rounds you'd expect to play until one coin remains."
   ]
  },
  {
   "cell_type": "code",
   "execution_count": 5,
   "metadata": {},
   "outputs": [],
   "source": [
    "#    My approach is to divide the number of coins by 2 everytime I flip\n",
    "#    since there's a 50% probability. Then I increment number of flips by 1 each time\n",
    "\n",
    "def number_of_flips(n):\n",
    "    total_flips = 0\n",
    "    while n >= 2:\n",
    "        n = n/2\n",
    "        total_flips+=1\n",
    "    return total_flips"
   ]
  },
  {
   "cell_type": "code",
   "execution_count": 6,
   "metadata": {},
   "outputs": [
    {
     "data": {
      "text/plain": [
       "3"
      ]
     },
     "execution_count": 6,
     "metadata": {},
     "output_type": "execute_result"
    }
   ],
   "source": [
    "# TEST CODE\n",
    "\n",
    "number_of_flips(9)"
   ]
  },
  {
   "cell_type": "code",
   "execution_count": null,
   "metadata": {},
   "outputs": [],
   "source": []
  },
  {
   "cell_type": "markdown",
   "metadata": {},
   "source": [
    "### Daily Coding Problem: Problem #127 [Easy]\n",
    "\n",
    "This problem was asked by Microsoft.\n",
    "\n",
    "Let's represent an integer in a linked list format by having each node represent a digit in the number. The nodes make up the number in reversed order.\n",
    "\n",
    "For example, the following linked list:\n",
    "\n",
    "1 -> 2 -> 3 -> 4 -> 5\n",
    "\n",
    "is the number 54321.\n",
    "\n",
    "Given two linked lists in this format, return their sum in the same linked list format.\n",
    "\n",
    "For example, given\n",
    "\n",
    "9 -> 9\n",
    "\n",
    "5 -> 2\n",
    "\n",
    "return 124 (99 + 25) as:\n",
    "\n",
    "4 -> 2 -> 1"
   ]
  },
  {
   "cell_type": "code",
   "execution_count": 7,
   "metadata": {},
   "outputs": [],
   "source": [
    "def sumlist(list1, list2):\n",
    "    int1 = list1.value\n",
    "    int2 = list2.value\n",
    "    \n",
    "    # Convert the linked lists to integers\n",
    "    while list1.next != None:\n",
    "        int1 = (10 * int1) + list1.next.value\n",
    "        list1 = list1.next\n",
    "    while list2.next != None:\n",
    "        int2 = (10 * int2) + list2.next.value\n",
    "        list2 = list2.next\n",
    "        \n",
    "    int3 = int1+int2\n",
    "    \n",
    "    list3 = Node(int3 % 10)\n",
    "    int3 = int3 // 10\n",
    "    \n",
    "    currentnode = list3\n",
    "    \n",
    "    # Create a loop and take the last value of the integer by using modulo 10 to create a reversed linked list\n",
    "    while int3 > 0:\n",
    "        currentnode.next = Node(int3 % 10)\n",
    "        int3 = int3 // 10\n",
    "        currentnode = currentnode.next\n",
    "    \n",
    "    #Print out list\n",
    "    current = list3\n",
    "    while current is not None:\n",
    "        if current.next is None:\n",
    "            print(current.value)\n",
    "        else:\n",
    "            print(current.value, end=' --> ')\n",
    "        current = current.next\n",
    "    return"
   ]
  },
  {
   "cell_type": "code",
   "execution_count": 8,
   "metadata": {},
   "outputs": [
    {
     "name": "stdout",
     "output_type": "stream",
     "text": [
      "4 --> 2 --> 1\n"
     ]
    }
   ],
   "source": [
    "# TEST CODE\n",
    "\n",
    "class Node:\n",
    "    def __init__(self, value):\n",
    "        self.value = value\n",
    "        self.next = None\n",
    "\n",
    "a = Node(9)\n",
    "a.next = Node(9)\n",
    "\n",
    "b = Node(2)\n",
    "b.next = Node(5)\n",
    "\n",
    "sumlist(a,b)"
   ]
  },
  {
   "cell_type": "code",
   "execution_count": null,
   "metadata": {},
   "outputs": [],
   "source": []
  },
  {
   "cell_type": "code",
   "execution_count": null,
   "metadata": {},
   "outputs": [],
   "source": []
  },
  {
   "cell_type": "markdown",
   "metadata": {},
   "source": [
    "### Daily Coding Problem: Problem #129 [Medium]\n",
    "\n",
    "Good morning! Here's your coding interview problem for today.\n",
    "\n",
    "Given a real number n, find the square root of n. For example, given n = 9, return 3"
   ]
  },
  {
   "cell_type": "code",
   "execution_count": 18,
   "metadata": {},
   "outputs": [],
   "source": [
    "def sqr_root(n):\n",
    "    # Iterate from 1 to the n\n",
    "    for i in range(round(n)):\n",
    "        # Compute the squares and stop if it equals n, and return it\n",
    "        if i*i == n:\n",
    "            return i\n",
    "        # else if the square is gretaer than n, start a sqr_check with the current and previous values\n",
    "        elif i*i > n:\n",
    "            return sqr_check(i, i-1, n)\n",
    "        \n",
    "def sqr_check(low, high, n):\n",
    "    # Mid is equal to the center of low and high, then find the sqaure of mid\n",
    "    mid = (low + high) / 2\n",
    "    sqr = mid*mid\n",
    "    \n",
    "    # Base case\n",
    "    # Return sqr if it is equal to n or if it's correct to 5 decimal places\n",
    "    if sqr == n or abs(sqr-n) < 0.00001:\n",
    "        return mid\n",
    "    \n",
    "    # If square is greater than n, recursively run sqr_check with the mid replacing high\n",
    "    elif sqr > n:\n",
    "        return sqr_check(mid, high, n)\n",
    "    # else if square is greater than n, recursively run sqr_check with the mid replacing low\n",
    "    else:\n",
    "        return sqr_check(low, mid, n)"
   ]
  },
  {
   "cell_type": "code",
   "execution_count": 21,
   "metadata": {},
   "outputs": [
    {
     "data": {
      "text/plain": [
       "3"
      ]
     },
     "execution_count": 21,
     "metadata": {},
     "output_type": "execute_result"
    }
   ],
   "source": [
    "# Test Code\n",
    "\n",
    "sqr_root(9)"
   ]
  },
  {
   "cell_type": "markdown",
   "metadata": {},
   "source": [
    "### Daily Coding Problem: Problem #130 [Medium]\n",
    "\n",
    "This problem was asked by Facebook.\n",
    "\n",
    "Given an array of numbers representing the stock prices of a company in chronological order and an integer k, return the maximum profit you can make from k buys and sells. You must buy the stock before you can sell it, and you must sell the stock before you can buy it again.\n",
    "\n",
    "For example, given k = 2 and the array [5, 2, 4, 0, 1], you should return 3."
   ]
  },
  {
   "cell_type": "code",
   "execution_count": 9,
   "metadata": {},
   "outputs": [],
   "source": [
    "#    The approach I took is to start from the begining of the list,initialize profit as 0, save the current index value and move to the next item whenever the next item is less than the current otherwise, switch the saved index value to the current and add the difference between the diifference between current and next to the total profit before moving to the next item again.\n",
    "\n",
    "def max_profit(arr):\n",
    "    profit = 0\n",
    "    i = 0\n",
    "    \n",
    "    while i < len(arr)-1:\n",
    "        current = arr[0]\n",
    "        if arr[i+1] < arr[i]:\n",
    "            i += 1\n",
    "        else:\n",
    "            current = arr[i]\n",
    "            profit += (arr[i+1] - arr[i])\n",
    "            i += 1\n",
    "    return profit"
   ]
  },
  {
   "cell_type": "code",
   "execution_count": 10,
   "metadata": {},
   "outputs": [
    {
     "data": {
      "text/plain": [
       "3"
      ]
     },
     "execution_count": 10,
     "metadata": {},
     "output_type": "execute_result"
    }
   ],
   "source": [
    "# TEST CODE\n",
    "\n",
    "max_profit([5,2,4,0,1])"
   ]
  },
  {
   "cell_type": "markdown",
   "metadata": {},
   "source": [
    "### Daily Coding Problem: Problem #131 [Medium]\n",
    "\n",
    "This question was asked by Snapchat.\n",
    "\n",
    "Given the head to a singly linked list, where each node also has a “random” pointer that points to anywhere in the linked list, deep clone the list."
   ]
  },
  {
   "cell_type": "code",
   "execution_count": 11,
   "metadata": {},
   "outputs": [],
   "source": [
    "def deep_clone(listhead):\n",
    "    clone = Node(listhead.value)\n",
    "    \n",
    "    current = listhead\n",
    "    current2 = clone\n",
    "    \n",
    "    # Place a copy of every node between itself and the next node    \n",
    "    while current.next != None:\n",
    "        nextval = current.next\n",
    "        current2.next = nextval\n",
    "        current.next = current2\n",
    "        current2 = Node(nextval.value)\n",
    "        current = nextval\n",
    "    current.next = current2\n",
    "    \n",
    "    current = listhead\n",
    "    current2 = clone\n",
    "    \n",
    "    # Assign the random pointer of the newly placed node to the next pointer after the random pointer of the preceeding node\n",
    "    while current2.next != None:\n",
    "        current2.random = current.random.next\n",
    "        current2 = current2.next.next\n",
    "        current = current.next.next\n",
    "    \n",
    "    current = listhead\n",
    "    current2 = clone\n",
    "    \n",
    "    # Break the link between node and copy and separte them fully into two separate lists    \n",
    "    while current2.next != None:\n",
    "        current.next = current.next.next\n",
    "        current2.next = current2.next.next\n",
    "        \n",
    "        current = current.next\n",
    "        current2 = current2.next\n",
    "    current.next = None\n",
    "    \n",
    "    return clone"
   ]
  },
  {
   "cell_type": "markdown",
   "metadata": {},
   "source": [
    "### Daily Coding Problem: Problem #132 [Easy]\n",
    "\n",
    "This question was asked by Riot Games.\n",
    "\n",
    "Design and implement a HitCounter class that keeps track of requests (or hits). It should support the following operations:\n",
    "\n",
    "- record(timestamp): records a hit that happened at timestamp\n",
    "\n",
    "- total(): returns the total number of hits recorded\n",
    "\n",
    "- range(lower, upper): returns the number of hits that occurred between timestamps lower and upper (inclusive)\n",
    "\n",
    "Follow-up: What if our system has limited memory?"
   ]
  },
  {
   "cell_type": "code",
   "execution_count": 12,
   "metadata": {},
   "outputs": [],
   "source": [
    "#    The hit counter stores appends each record in a list, the total is gotten as the length of the list while the range is the difference in index values between two timestamps\n",
    "\n",
    "class HitCounter:\n",
    "    def __init__(self):\n",
    "        self.hits = []\n",
    "        \n",
    "    def record(self, timestamp):\n",
    "        self.hits.append(timestamp)\n",
    "    \n",
    "    def total(self):\n",
    "        return len(self.hits)\n",
    "    \n",
    "    def range(self, lower, upper):\n",
    "        return self.hits.index(upper) - self.hits.index(lower)"
   ]
  },
  {
   "cell_type": "markdown",
   "metadata": {},
   "source": [
    "### Daily Coding Problem: Problem #133 [Medium]\n",
    "\n",
    "This problem was asked by Amazon.\n",
    "\n",
    "Given a node in a binary search tree, return the next bigger element, also known as the inorder successor.\n",
    "\n",
    "For example, the inorder successor of 22 is 30."
   ]
  },
  {
   "cell_type": "code",
   "execution_count": null,
   "metadata": {},
   "outputs": [],
   "source": [
    "#    10\n",
    "#   /  \\\n",
    "#  5    30\n",
    "#      /  \\\n",
    "#    22    35"
   ]
  },
  {
   "cell_type": "markdown",
   "metadata": {},
   "source": [
    "You can assume each node has a parent pointer."
   ]
  },
  {
   "cell_type": "code",
   "execution_count": 13,
   "metadata": {},
   "outputs": [],
   "source": [
    "#    I did an inorder traversal and returned the current node parent when the node had been found\n",
    "\n",
    "def inorder_succesor(tree, node):\n",
    "    currentnode = tree\n",
    "    while currentnode != None:\n",
    "        if node > currentnode.value:\n",
    "            currentnode = currentnode.rbranch\n",
    "        elif node < currentnode.value:\n",
    "            currentnode = currentnode.lbranch\n",
    "        else:\n",
    "            return currentnode.parent.value\n",
    "        \n",
    "    return 'Node not in tree'"
   ]
  },
  {
   "cell_type": "code",
   "execution_count": 14,
   "metadata": {},
   "outputs": [
    {
     "data": {
      "text/plain": [
       "30"
      ]
     },
     "execution_count": 14,
     "metadata": {},
     "output_type": "execute_result"
    }
   ],
   "source": [
    "# TEST CODE\n",
    "\n",
    "class Node:\n",
    "    def __init__(self, value):\n",
    "        self.value = value\n",
    "        self.rbranch = None\n",
    "        self.lbranch = None\n",
    "        self.parent = None\n",
    "\n",
    "a = Node(10)\n",
    "\n",
    "a.lbranch = Node(5)\n",
    "a.lbranch.parent = a\n",
    "\n",
    "a.rbranch = Node(30)\n",
    "a.rbranch.parent = a\n",
    "\n",
    "\n",
    "a.rbranch.lbranch = Node(22)\n",
    "a.rbranch.lbranch.parent = a.rbranch\n",
    "\n",
    "a.rbranch.rbranch = Node(35)\n",
    "a.rbranch.rbranch.parent = a.rbranch\n",
    "\n",
    "inorder_succesor(a, 22)"
   ]
  },
  {
   "cell_type": "markdown",
   "metadata": {},
   "source": [
    "### Daily Coding Problem: Problem #134 [Easy]\n",
    "\n",
    "This problem was asked by Facebook.\n",
    "\n",
    "You have a large array with most of the elements as zero.\n",
    "\n",
    "Use a more space-efficient data structure, SparseArray, that implements the same interface:\n",
    "\n",
    "- init(arr, size): initialize with the original large array and size.\n",
    "\n",
    "- set(i, val): updates index at i with val.\n",
    "\n",
    "- get(i): gets the value at index i."
   ]
  },
  {
   "cell_type": "code",
   "execution_count": 15,
   "metadata": {},
   "outputs": [],
   "source": [
    "#    I initialized the sparse array as a dictionary\n",
    "#    Set updates the dictionary with a key, value pair, where key is index and value is the value\n",
    "#    Get checks first if the index is within array size, then checks for key to find the index, if it's not there, it returns 0\n",
    "\n",
    "class SparseArray:\n",
    "    def __init__ (self, arr, size):\n",
    "        self.size = size\n",
    "        self.arr = arr\n",
    "        self.sparse_arr = {}\n",
    "        \n",
    "        for i in range(len(self.arr)):\n",
    "            if self.arr[i] != 0:\n",
    "                self.set(i, self.arr[i])\n",
    "        \n",
    "    def set(self, i, val):\n",
    "        if val == 0:\n",
    "            if i in self.sparse_arr:\n",
    "                del self.sparse_arr[i]\n",
    "            return\n",
    "        self.sparse_arr[i] = val\n",
    "        \n",
    "    def get(self, i):\n",
    "        if i >= self.size:\n",
    "            return 'List index out of range'\n",
    "        elif i not in self.sparse_arr:\n",
    "            return 0\n",
    "        return self.sparse_arr[i]"
   ]
  },
  {
   "cell_type": "markdown",
   "metadata": {},
   "source": [
    "### Daily Coding Problem: Problem #135 [Easy]\n",
    "\n",
    "This question was asked by Apple.\n",
    "\n",
    "Given a binary tree, find a minimum path sum from root to a leaf.\n",
    "\n",
    "For example, the minimum path in this tree is [10, 5, 1, -1], which has sum 15.\n"
   ]
  },
  {
   "cell_type": "code",
   "execution_count": null,
   "metadata": {},
   "outputs": [],
   "source": [
    "#    10\n",
    "#   /  \\\n",
    "#  5    5\n",
    "#   \\     \\\n",
    "#     2    1\n",
    "#         /\n",
    "#       -1"
   ]
  },
  {
   "cell_type": "code",
   "execution_count": 16,
   "metadata": {},
   "outputs": [],
   "source": [
    "def minimum_path(tree):\n",
    "    \n",
    "    # Initialize the left and right branch globally and set them to None\n",
    "    global left_branch\n",
    "    global right_branch\n",
    "    left_branch = None\n",
    "    right_branch = None\n",
    "    return _minimum_path(tree, 0)\n",
    "\n",
    "def _minimum_path(tree, sum):\n",
    "    \n",
    "    # When you get to base case (i.e a leaf) return the sum\n",
    "    if tree.lbranch is None and tree.rbranch is None:\n",
    "        return sum + tree.value\n",
    "    \n",
    "    # For each node call the left and right branches recursively and set them to the left_branch and right_branch respectively, if they are not None\n",
    "    if tree.lbranch is not None:\n",
    "        left_branch = _minimum_path(tree.lbranch, sum + tree.value)\n",
    "    if tree.rbranch is not None:\n",
    "        right_branch = _minimum_path(tree.rbranch, sum + tree.value)\n",
    "    \n",
    "    # return the minimum of the branches from a node\n",
    "    if tree.lbranch is not None and tree.rbranch is not None:\n",
    "        return min(left_branch, right_branch)\n",
    "    elif tree.lbranch is None:\n",
    "        return right_branch\n",
    "    elif tree.rbranch is None:\n",
    "        return left_branch"
   ]
  },
  {
   "cell_type": "code",
   "execution_count": 17,
   "metadata": {},
   "outputs": [
    {
     "data": {
      "text/plain": [
       "17"
      ]
     },
     "execution_count": 17,
     "metadata": {},
     "output_type": "execute_result"
    }
   ],
   "source": [
    "# TEST CODE\n",
    "\n",
    "class Node:\n",
    "    def __init__(self, value):\n",
    "        self.value = value\n",
    "        self.rbranch = None\n",
    "        self.lbranch = None\n",
    "        \n",
    "T = Node(10)\n",
    "T.lbranch = Node(5)\n",
    "T.rbranch = Node(5)\n",
    "T.lbranch.rbranch = Node(2)\n",
    "T.rbranch.rbranch = Node(4)\n",
    "T.rbranch.rbranch.lbranch = Node(7)\n",
    "\n",
    "minimum_path(T)"
   ]
  },
  {
   "cell_type": "markdown",
   "metadata": {},
   "source": [
    "### Daily Coding Problem: Problem #136 [Medium]\n",
    "\n",
    "This question was asked by Google.\n",
    "\n",
    "Given an N by M matrix consisting only of 1's and 0's, find the largest rectangle containing only 1's and return its area.\n",
    "\n",
    "For example, given the following matrix:\n"
   ]
  },
  {
   "cell_type": "code",
   "execution_count": null,
   "metadata": {},
   "outputs": [],
   "source": [
    "# [[1, 0, 0, 0],\n",
    "#  [1, 0, 1, 1],\n",
    "#  [1, 0, 1, 1],\n",
    "#  [0, 1, 0, 0]]"
   ]
  },
  {
   "cell_type": "markdown",
   "metadata": {},
   "source": [
    "Return 4."
   ]
  },
  {
   "cell_type": "code",
   "execution_count": 5,
   "metadata": {},
   "outputs": [],
   "source": [
    "def largest_rectangle(matrix):\n",
    "    \n",
    "    # create an array and make it the top of the matrix\n",
    "    array = matrix[0]\n",
    "    area = 0\n",
    "    maxArea = 0\n",
    "    \n",
    "    # Iterating through consecutive layers of the array\n",
    "    for i in range(len(matrix)):\n",
    "        # Calculate the current largest rectangle in the array using the largest_hist_area function and set as area \n",
    "        area = largest_hist_area(array)\n",
    "        # For every item in this matrix layer\n",
    "        for j in range(len(matrix)):\n",
    "            # If the item is zero, set the corresponding array index to zero\n",
    "            if matrix[i][j] == 0:\n",
    "                array[j] = 0\n",
    "            # Else increment the item at the array index by 1\n",
    "            else:\n",
    "                array[j] += 1\n",
    "        if area > maxArea:\n",
    "            maxArea = area\n",
    "            \n",
    "    # Repeat the calculation for the last lasyer of the matrix\n",
    "    area = largest_hist_area(array)\n",
    "    if area > maxArea:\n",
    "        maxArea = area\n",
    "    \n",
    "    return maxArea\n",
    "\n",
    "def largest_hist_area(arr):\n",
    "    stack = []\n",
    "    maxArea = 0\n",
    "    area = 0\n",
    "    \n",
    "    # Iterate from the second item and append the previous item to the stack if it's less than or equal to the current item    \n",
    "    for i in range(1, len(arr)):\n",
    "        if arr[i] >= arr[i-1]:\n",
    "            stack.append(i-1)\n",
    "        # else while the item at the top of the stack is greater than the current item, pop it from the stack\n",
    "        else:\n",
    "            stack.append(i-1)\n",
    "            while arr[stack[-1]] > arr[i]:\n",
    "                top = stack.pop()\n",
    "                # If the stack is empty calculate the area by multiplying the popped item by the current index\n",
    "                if len(stack) == 0:\n",
    "                    area = arr[top] * i\n",
    "                # else calculate the area by multiplying the popped item by the difference between the current index and the last item on the stack - 1\n",
    "                else:\n",
    "                    area = arr[top] * (i - stack[-1] - 1)\n",
    "                # set max area to current area if it's greater\n",
    "                if area > maxArea:\n",
    "                    maxArea = area\n",
    "                # Break while loop if stack is empty\n",
    "                if len(stack) == 0:\n",
    "                    break\n",
    "                    \n",
    "    # Add the last item to the stack\n",
    "    i = len(arr)\n",
    "    stack.append(i-1)\n",
    "    \n",
    "    #Repeat the process of popping till stack is empty\n",
    "    while len(stack) != 0:\n",
    "        top = stack.pop()\n",
    "        if len(stack) == 0:\n",
    "            area = arr[top] * i\n",
    "        else:\n",
    "            area = arr[top] * (i - stack[-1] - 1)\n",
    "        if area > maxArea:\n",
    "            maxArea = area\n",
    "            \n",
    "    return maxArea"
   ]
  },
  {
   "cell_type": "code",
   "execution_count": 6,
   "metadata": {},
   "outputs": [
    {
     "data": {
      "text/plain": [
       "4"
      ]
     },
     "execution_count": 6,
     "metadata": {},
     "output_type": "execute_result"
    }
   ],
   "source": [
    "#Test Code\n",
    "\n",
    "matrix =[[1, 0, 0, 0],\n",
    "         [1, 0, 1, 1],\n",
    "         [1, 0, 1, 1],\n",
    "         [0, 1, 0, 0]]\n",
    "\n",
    "largest_rectangle(matrix)"
   ]
  },
  {
   "cell_type": "markdown",
   "metadata": {},
   "source": [
    "### Daily Coding Problem: Problem #137 [Medium]\n",
    "\n",
    "This problem was asked by Amazon.\n",
    "\n",
    "Implement a bit array.\n",
    "\n",
    "A bit array is a space efficient array that holds a value of 1 or 0 at each index.\n",
    "\n",
    "- init(size): initialize the array with size\n",
    "- set(i, val): updates index at i with val where val is either 1 or 0.\n",
    "- get(i): gets the value at index i."
   ]
  },
  {
   "cell_type": "code",
   "execution_count": 1,
   "metadata": {},
   "outputs": [],
   "source": [
    "class bitarray:\n",
    "    def __init__ (self, size):\n",
    "        \n",
    "        # Divide the required size by 32 to initialize the array size\n",
    "        # 32 is preferred cause that is typically how many bits a memory can contain\n",
    "        self.newsize = (size//32) + 1\n",
    "        self.arr = [0] * self.newsize\n",
    "    \n",
    "    # To set the value at an index i\n",
    "    def set(self, i, val):\n",
    "        \n",
    "        # if the bit at the index is 0\n",
    "        if (self.arr[i>>5] & 1<<(i%32)) == 0:\n",
    "            # if the value to set is 1\n",
    "            if val == 1:\n",
    "                # Update the value to 1 using an OR operator\n",
    "                self.arr[i>>5] |= (1<<(i % 32))\n",
    "            # if the value is already 0, do nothing\n",
    "            else:\n",
    "                pass\n",
    "            \n",
    "        # else if the value to set is 1\n",
    "        else:\n",
    "            # if the value is already 1, do nothing\n",
    "            if val == 1:\n",
    "                pass\n",
    "            # else if the value is 0\n",
    "            else:\n",
    "                # Update the value to 0\n",
    "                self.arr[i>>5] -= int(1 << i)\n",
    "                \n",
    "    def get(self, i):\n",
    "        # Check for the value of the bit at the index\n",
    "        if (self.arr[i>>5] & 1<<(i%32)) == 0:\n",
    "            return 0\n",
    "        else:\n",
    "            return 1"
   ]
  },
  {
   "cell_type": "markdown",
   "metadata": {},
   "source": [
    "### Daily Coding Problem: Problem #138 [Hard]\n",
    "\n",
    "This problem was asked by Google.\n",
    "\n",
    "Find the minimum number of coins required to make n cents.\n",
    "\n",
    "You can use standard American denominations, that is, 1¢, 5¢, 10¢, and 25¢.\n",
    "\n",
    "For example, given n = 16, return 3 since we can make it with a 10¢, a 5¢, and a 1¢."
   ]
  },
  {
   "cell_type": "code",
   "execution_count": 2,
   "metadata": {},
   "outputs": [],
   "source": [
    "def minimumCoins(n):\n",
    "    # Set number of coins used to zero\n",
    "    count = 0\n",
    "    # Continuosly remove coins from n starting from the highest denomination\n",
    "    # Subtract the removed coin from the whatever is left of n\n",
    "    while n != 0:\n",
    "        if n >= 25:\n",
    "            n-=25\n",
    "            \n",
    "        elif n >= 10:\n",
    "            n-=10\n",
    "        \n",
    "        elif n >= 5:\n",
    "            n-=5\n",
    "            \n",
    "        else: n-=1\n",
    "        # Anytime a coin is removed add to number of coins used   \n",
    "        count+=1\n",
    "    # Return total number of coins removed\n",
    "    return count"
   ]
  },
  {
   "cell_type": "code",
   "execution_count": 5,
   "metadata": {},
   "outputs": [
    {
     "data": {
      "text/plain": [
       "3"
      ]
     },
     "execution_count": 5,
     "metadata": {},
     "output_type": "execute_result"
    }
   ],
   "source": [
    "# Test Code\n",
    "minimumCoins(16)"
   ]
  },
  {
   "cell_type": "markdown",
   "metadata": {},
   "source": [
    "#### Note:\n",
    "\n",
    "The code above runs perfectly for the above question specifically but would fail for some more peculiar denomination sets.\n",
    "\n",
    "A more robust approach is given below"
   ]
  },
  {
   "cell_type": "code",
   "execution_count": 9,
   "metadata": {},
   "outputs": [],
   "source": [
    "def mincoins(coins, n):\n",
    "    store = [float('inf')] * (n+1)\n",
    "    store[0] = 0\n",
    "    \n",
    "    \n",
    "    for i in range(coins[0],n+1):\n",
    "        for j in coins:\n",
    "            if j <= i:\n",
    "                val = store[i-j]\n",
    "                if (val != float('inf') and (val + 1) < store[i]):\n",
    "                    store[i] = val + 1\n",
    "    return store[n]"
   ]
  },
  {
   "cell_type": "code",
   "execution_count": 11,
   "metadata": {},
   "outputs": [
    {
     "data": {
      "text/plain": [
       "2"
      ]
     },
     "execution_count": 11,
     "metadata": {},
     "output_type": "execute_result"
    }
   ],
   "source": [
    "# Test Code\n",
    "mincoins([5, 10, 20, 25], 40)"
   ]
  },
  {
   "cell_type": "code",
   "execution_count": null,
   "metadata": {},
   "outputs": [],
   "source": []
  }
 ],
 "metadata": {
  "kernelspec": {
   "display_name": "Python 3",
   "language": "python",
   "name": "python3"
  },
  "language_info": {
   "codemirror_mode": {
    "name": "ipython",
    "version": 3
   },
   "file_extension": ".py",
   "mimetype": "text/x-python",
   "name": "python",
   "nbconvert_exporter": "python",
   "pygments_lexer": "ipython3",
   "version": "3.6.7"
  }
 },
 "nbformat": 4,
 "nbformat_minor": 2
}
