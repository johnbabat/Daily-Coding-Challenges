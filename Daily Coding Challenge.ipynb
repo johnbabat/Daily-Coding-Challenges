{
 "cells": [
  {
   "cell_type": "markdown",
   "metadata": {},
   "source": [
    "### Daily Coding Problem: Problem #122 [Medium]\n",
    "\n",
    "This question was asked by Zillow.\n",
    "\n",
    "You are given a 2-d matrix where each cell represents number of coins in that cell. Assuming we start at matrix[0][0], and can only move right or down, find the maximum number of coins you can collect by the bottom right corner.\n",
    "\n",
    "For example, in this matrix\n",
    "\n"
   ]
  },
  {
   "cell_type": "markdown",
   "metadata": {},
   "source": [
    "    0 3 1 1\n",
    "    2 0 0 4\n",
    "    1 5 3 1"
   ]
  },
  {
   "cell_type": "markdown",
   "metadata": {},
   "source": [
    "The most we can collect is 0 + 2 + 1 + 5 + 3 + 1 = 12 coins."
   ]
  },
  {
   "cell_type": "code",
   "execution_count": 1,
   "metadata": {},
   "outputs": [],
   "source": [
    "#    The approach I took is to create a new matrix same size as the input and then replace \n",
    "#    each cell with the sum of the the value of the cell and the maximum of the top and left cell.\n",
    "#    The new array would have the macimum path at the bottom right\n",
    "\n",
    "def max_coins(matrix):\n",
    "    new_matrix = matrix\n",
    "    for i in range(len(new_matrix)):\n",
    "        for j in range(len(new_matrix[0])):\n",
    "            if i == 0 and j == 0:\n",
    "                pass\n",
    "            elif i == 0:\n",
    "                new_matrix[i][j] += new_matrix[i][j-1]\n",
    "            elif j == 0:\n",
    "                new_matrix[i][j] += new_matrix[i-1][j]\n",
    "            else:\n",
    "                new_matrix[i][j] += max(new_matrix[i-1][j], new_matrix[i][j-1])\n",
    "    return new_matrix[-1][-1]"
   ]
  },
  {
   "cell_type": "code",
   "execution_count": 2,
   "metadata": {},
   "outputs": [
    {
     "data": {
      "text/plain": [
       "12"
      ]
     },
     "execution_count": 2,
     "metadata": {},
     "output_type": "execute_result"
    }
   ],
   "source": [
    "# TEST CODE\n",
    "\n",
    "mat = [[0,3,1,1], [2,0,0,4], [1,5,3,1]]\n",
    "max_coins(mat)"
   ]
  },
  {
   "cell_type": "markdown",
   "metadata": {},
   "source": [
    "### Daily Coding Problem: Problem #123 [Hard]\n",
    "\n",
    "This problem was asked by LinkedIn.\n",
    "\n",
    "Given a string, return whether it represents a number. Here are the different kinds of numbers:\n",
    "\n",
    "- \"10\", a positive integer\n",
    "- \"-10\", a negative integer\n",
    "- \"10.1\", a positive real number\n",
    "- \"-10.1\", a negative real number\n",
    "- \"1e5\", a number in scientific notation\n",
    "\n",
    "And here are examples of non-numbers:\n",
    "\n",
    "- \"a\"\n",
    "- \"x 1\"\n",
    "- \"a -2\"\n",
    "- \"-\""
   ]
  },
  {
   "cell_type": "code",
   "execution_count": 3,
   "metadata": {},
   "outputs": [],
   "source": [
    "#    The approach I took is to check if the string is a number in scientific notation\n",
    "#    if not check if it's a floating, if not check if it's an integer\n",
    "#    if it is any of the above return 'is a number' else return 'is NOT a number'\n",
    "\n",
    "def number_or_not(string):\n",
    "    if string.count(\"e\") == 1:\n",
    "        if string.index(\"e\") != 0 and string.index(\"e\") != len(string):\n",
    "            string.replace(\"e\", \"\")\n",
    "    try:\n",
    "        float(string)\n",
    "    except:\n",
    "        try:\n",
    "            int(string)\n",
    "        except:\n",
    "            return 'is NOT a number'\n",
    "    return 'is a number'"
   ]
  },
  {
   "cell_type": "code",
   "execution_count": 4,
   "metadata": {},
   "outputs": [
    {
     "name": "stdout",
     "output_type": "stream",
     "text": [
      "10 is a number\n",
      "-10 is a number\n",
      "10.1 is a number\n",
      "-10.1 is a number\n",
      "1e5 is a number\n",
      "a is NOT a number\n",
      "x 1 is NOT a number\n",
      "a -2 is NOT a number\n",
      "- is NOT a number\n"
     ]
    }
   ],
   "source": [
    "# TEST CODE\n",
    "\n",
    "print(\"10\", number_or_not(\"10\"))\n",
    "print(\"-10\", number_or_not(\"-10\"))\n",
    "print(\"10.1\", number_or_not(\"10.1\"))\n",
    "print(\"-10.1\", number_or_not(\"-10.1\"))\n",
    "print(\"1e5\", number_or_not(\"1e5\"))\n",
    "print(\"a\", number_or_not(\"a\"))\n",
    "print(\"x 1\", number_or_not(\"x 1\"))\n",
    "print(\"a -2\", number_or_not(\"a -2\"))\n",
    "print(\"-\", number_or_not(\"-\"))"
   ]
  },
  {
   "cell_type": "markdown",
   "metadata": {},
   "source": [
    "### Daily Coding Problem: Problem #124 [Easy]\n",
    "\n",
    "This problem was asked by Microsoft.\n",
    "\n",
    "You have n fair coins and you flip them all at the same time. Any that come up tails you set aside. The ones that come up heads you flip again. How many rounds do you expect to play before only one coin remains?\n",
    "\n",
    "Write a function that, given n, returns the number of rounds you'd expect to play until one coin remains."
   ]
  },
  {
   "cell_type": "code",
   "execution_count": 5,
   "metadata": {},
   "outputs": [],
   "source": [
    "#    My approach is to divide the number of coins by 2 everytime I flip\n",
    "#    since there's a 50% probability. Then I increment number of flips by 1 each time\n",
    "\n",
    "def number_of_flips(n):\n",
    "    total_flips = 0\n",
    "    while n >= 2:\n",
    "        n = n/2\n",
    "        total_flips+=1\n",
    "    return total_flips"
   ]
  },
  {
   "cell_type": "code",
   "execution_count": 6,
   "metadata": {},
   "outputs": [
    {
     "data": {
      "text/plain": [
       "3"
      ]
     },
     "execution_count": 6,
     "metadata": {},
     "output_type": "execute_result"
    }
   ],
   "source": [
    "# TEST CODE\n",
    "\n",
    "number_of_flips(9)"
   ]
  },
  {
   "cell_type": "code",
   "execution_count": null,
   "metadata": {},
   "outputs": [],
   "source": []
  },
  {
   "cell_type": "markdown",
   "metadata": {},
   "source": [
    "### Daily Coding Problem: Problem #127 [Easy]\n",
    "\n",
    "This problem was asked by Microsoft.\n",
    "\n",
    "Let's represent an integer in a linked list format by having each node represent a digit in the number. The nodes make up the number in reversed order.\n",
    "\n",
    "For example, the following linked list:\n",
    "\n",
    "1 -> 2 -> 3 -> 4 -> 5\n",
    "\n",
    "is the number 54321.\n",
    "\n",
    "Given two linked lists in this format, return their sum in the same linked list format.\n",
    "\n",
    "For example, given\n",
    "\n",
    "9 -> 9\n",
    "\n",
    "5 -> 2\n",
    "\n",
    "return 124 (99 + 25) as:\n",
    "\n",
    "4 -> 2 -> 1"
   ]
  },
  {
   "cell_type": "code",
   "execution_count": 7,
   "metadata": {},
   "outputs": [],
   "source": [
    "def sumlist(list1, list2):\n",
    "    int1 = list1.value\n",
    "    int2 = list2.value\n",
    "    \n",
    "    # Convert the linked lists to integers\n",
    "    while list1.next != None:\n",
    "        int1 = (10 * int1) + list1.next.value\n",
    "        list1 = list1.next\n",
    "    while list2.next != None:\n",
    "        int2 = (10 * int2) + list2.next.value\n",
    "        list2 = list2.next\n",
    "        \n",
    "    int3 = int1+int2\n",
    "    \n",
    "    list3 = Node(int3 % 10)\n",
    "    int3 = int3 // 10\n",
    "    \n",
    "    currentnode = list3\n",
    "    \n",
    "    # Create a loop and take the last value of the integer by using modulo 10 to create a reversed linked list\n",
    "    while int3 > 0:\n",
    "        currentnode.next = Node(int3 % 10)\n",
    "        int3 = int3 // 10\n",
    "        currentnode = currentnode.next\n",
    "    \n",
    "    #Print out list\n",
    "    current = list3\n",
    "    while current is not None:\n",
    "        if current.next is None:\n",
    "            print(current.value)\n",
    "        else:\n",
    "            print(current.value, end=' --> ')\n",
    "        current = current.next\n",
    "    return"
   ]
  },
  {
   "cell_type": "code",
   "execution_count": 8,
   "metadata": {},
   "outputs": [
    {
     "name": "stdout",
     "output_type": "stream",
     "text": [
      "4 --> 2 --> 1\n"
     ]
    }
   ],
   "source": [
    "# TEST CODE\n",
    "\n",
    "class Node:\n",
    "    def __init__(self, value):\n",
    "        self.value = value\n",
    "        self.next = None\n",
    "\n",
    "a = Node(9)\n",
    "a.next = Node(9)\n",
    "\n",
    "b = Node(2)\n",
    "b.next = Node(5)\n",
    "\n",
    "sumlist(a,b)"
   ]
  },
  {
   "cell_type": "markdown",
   "metadata": {},
   "source": [
    "### Daily Coding Problem: Problem #130 [Medium]\n",
    "\n",
    "This problem was asked by Facebook.\n",
    "\n",
    "Given an array of numbers representing the stock prices of a company in chronological order and an integer k, return the maximum profit you can make from k buys and sells. You must buy the stock before you can sell it, and you must sell the stock before you can buy it again.\n",
    "\n",
    "For example, given k = 2 and the array [5, 2, 4, 0, 1], you should return 3."
   ]
  },
  {
   "cell_type": "code",
   "execution_count": 9,
   "metadata": {},
   "outputs": [],
   "source": [
    "#    The approach I took is to start from the begining of the list,initialize profit as 0, save the current index\n",
    "#    value and move to the next item whenever the next item is less than the current otherwise, switch the\n",
    "#    saved index value to the current and add the difference between the diifference between current and next\n",
    "#    to the total profit before moving to the next item again.\n",
    "\n",
    "def max_profit(arr):\n",
    "    profit = 0\n",
    "    i = 0\n",
    "    \n",
    "    while i < len(arr)-1:\n",
    "        current = arr[0]\n",
    "        if arr[i+1] < arr[i]:\n",
    "            i += 1\n",
    "        else:\n",
    "            current = arr[i]\n",
    "            profit += (arr[i+1] - arr[i])\n",
    "            i += 1\n",
    "    return profit"
   ]
  },
  {
   "cell_type": "code",
   "execution_count": 10,
   "metadata": {},
   "outputs": [
    {
     "data": {
      "text/plain": [
       "3"
      ]
     },
     "execution_count": 10,
     "metadata": {},
     "output_type": "execute_result"
    }
   ],
   "source": [
    "# TEST CODE\n",
    "\n",
    "max_profit([5,2,4,0,1])"
   ]
  },
  {
   "cell_type": "markdown",
   "metadata": {},
   "source": [
    "### Daily Coding Problem: Problem #131 [Medium]\n",
    "\n",
    "This question was asked by Snapchat.\n",
    "\n",
    "Given the head to a singly linked list, where each node also has a “random” pointer that points to anywhere in the linked list, deep clone the list."
   ]
  },
  {
   "cell_type": "code",
   "execution_count": 11,
   "metadata": {},
   "outputs": [],
   "source": [
    "def deep_clone(listhead):\n",
    "    clone = Node(listhead.value)\n",
    "    \n",
    "    current = listhead\n",
    "    current2 = clone\n",
    "    \n",
    "    # Place a copy of every node between itself and the next node    \n",
    "    while current.next != None:\n",
    "        nextval = current.next\n",
    "        current2.next = nextval\n",
    "        current.next = current2\n",
    "        current2 = Node(nextval.value)\n",
    "        current = nextval\n",
    "    current.next = current2\n",
    "    \n",
    "    current = listhead\n",
    "    current2 = clone\n",
    "    \n",
    "    # Assign the random pointer of the newly placed node to the next pointer after the random pointer of the preceeding node\n",
    "    while current2.next != None:\n",
    "        current2.random = current.random.next\n",
    "        current2 = current2.next.next\n",
    "        current = current.next.next\n",
    "    \n",
    "    current = listhead\n",
    "    current2 = clone\n",
    "    \n",
    "    # Break the link between node and copy and separte them fully into two separate lists    \n",
    "    while current2.next != None:\n",
    "        current.next = current.next.next\n",
    "        current2.next = current2.next.next\n",
    "        \n",
    "        current = current.next\n",
    "        current2 = current2.next\n",
    "    current.next = None\n",
    "    \n",
    "    return clone"
   ]
  },
  {
   "cell_type": "markdown",
   "metadata": {},
   "source": [
    "### Daily Coding Problem: Problem #132 [Easy]\n",
    "\n",
    "This question was asked by Riot Games.\n",
    "\n",
    "Design and implement a HitCounter class that keeps track of requests (or hits). It should support the following operations:\n",
    "\n",
    "- record(timestamp): records a hit that happened at timestamp\n",
    "\n",
    "- total(): returns the total number of hits recorded\n",
    "\n",
    "- range(lower, upper): returns the number of hits that occurred between timestamps lower and upper (inclusive)\n",
    "\n",
    "Follow-up: What if our system has limited memory?"
   ]
  },
  {
   "cell_type": "code",
   "execution_count": 12,
   "metadata": {},
   "outputs": [],
   "source": [
    "#    The hit counter stores appends each record in a list, the total is gotten as the length of the list\n",
    "#    while the range is the difference in index values between two timestamps\n",
    "\n",
    "class HitCounter:\n",
    "    def __init__(self):\n",
    "        self.hits = []\n",
    "        \n",
    "    def record(self, timestamp):\n",
    "        self.hits.append(timestamp)\n",
    "    \n",
    "    def total(self):\n",
    "        return len(self.hits)\n",
    "    \n",
    "    def range(self, lower, upper):\n",
    "        return self.hits.index(upper) - self.hits.index(lower)"
   ]
  },
  {
   "cell_type": "markdown",
   "metadata": {},
   "source": [
    "### Daily Coding Problem: Problem #133 [Medium]\n",
    "\n",
    "This problem was asked by Amazon.\n",
    "\n",
    "Given a node in a binary search tree, return the next bigger element, also known as the inorder successor.\n",
    "\n",
    "For example, the inorder successor of 22 is 30."
   ]
  },
  {
   "cell_type": "raw",
   "metadata": {},
   "source": [
    "   10\n",
    "  /  \\\n",
    " 5    30\n",
    "     /  \\\n",
    "   22    35"
   ]
  },
  {
   "cell_type": "markdown",
   "metadata": {},
   "source": [
    "You can assume each node has a parent pointer."
   ]
  },
  {
   "cell_type": "code",
   "execution_count": 13,
   "metadata": {},
   "outputs": [],
   "source": [
    "#    I did an inorder traversal and returned the current node parent when the node had been found\n",
    "\n",
    "def inorder_succesor(tree, node):\n",
    "    currentnode = tree\n",
    "    while currentnode != None:\n",
    "        if node > currentnode.value:\n",
    "            currentnode = currentnode.rbranch\n",
    "        elif node < currentnode.value:\n",
    "            currentnode = currentnode.lbranch\n",
    "        else:\n",
    "            return currentnode.parent.value\n",
    "        \n",
    "    return 'Node not in tree'"
   ]
  },
  {
   "cell_type": "code",
   "execution_count": 14,
   "metadata": {},
   "outputs": [
    {
     "data": {
      "text/plain": [
       "30"
      ]
     },
     "execution_count": 14,
     "metadata": {},
     "output_type": "execute_result"
    }
   ],
   "source": [
    "# TEST CODE\n",
    "\n",
    "class Node:\n",
    "    def __init__(self, value):\n",
    "        self.value = value\n",
    "        self.rbranch = None\n",
    "        self.lbranch = None\n",
    "        self.parent = None\n",
    "\n",
    "a = Node(10)\n",
    "\n",
    "a.lbranch = Node(5)\n",
    "a.lbranch.parent = a\n",
    "\n",
    "a.rbranch = Node(30)\n",
    "a.rbranch.parent = a\n",
    "\n",
    "\n",
    "a.rbranch.lbranch = Node(22)\n",
    "a.rbranch.lbranch.parent = a.rbranch\n",
    "\n",
    "a.rbranch.rbranch = Node(35)\n",
    "a.rbranch.rbranch.parent = a.rbranch\n",
    "\n",
    "inorder_succesor(a, 22)"
   ]
  },
  {
   "cell_type": "markdown",
   "metadata": {},
   "source": [
    "### Daily Coding Problem: Problem #134 [Easy]\n",
    "\n",
    "This problem was asked by Facebook.\n",
    "\n",
    "You have a large array with most of the elements as zero.\n",
    "\n",
    "Use a more space-efficient data structure, SparseArray, that implements the same interface:\n",
    "\n",
    "- init(arr, size): initialize with the original large array and size.\n",
    "\n",
    "- set(i, val): updates index at i with val.\n",
    "\n",
    "- get(i): gets the value at index i."
   ]
  },
  {
   "cell_type": "code",
   "execution_count": 15,
   "metadata": {},
   "outputs": [],
   "source": [
    "#    I initialized the sparse array as a dictionary\n",
    "#    Set updates the dictionary with a key, value pair, where key is index and value is the value\n",
    "#    Get checks first if the index is within array size, then checks for key to find the index, if it's not there, it returns 0\n",
    "\n",
    "class SparseArray:\n",
    "    def __init__ (self, arr, size):\n",
    "        self.size = size\n",
    "        self.arr = arr\n",
    "        self.sparse_arr = {}\n",
    "        \n",
    "        for i in range(len(self.arr)):\n",
    "            if self.arr[i] != 0:\n",
    "                self.set(i, self.arr[i])\n",
    "        \n",
    "    def set(self, i, val):\n",
    "        if val == 0:\n",
    "            if i in self.sparse_arr:\n",
    "                del self.sparse_arr[i]\n",
    "            return\n",
    "        self.sparse_arr[i] = val\n",
    "        \n",
    "    def get(self, i):\n",
    "        if i >= self.size:\n",
    "            return 'List index out of range'\n",
    "        elif i not in self.sparse_arr:\n",
    "            return 0\n",
    "        return self.sparse_arr[i]"
   ]
  },
  {
   "cell_type": "markdown",
   "metadata": {},
   "source": [
    "### Daily Coding Problem: Problem #135 [Easy]\n",
    "\n",
    "This question was asked by Apple.\n",
    "\n",
    "Given a binary tree, find a minimum path sum from root to a leaf.\n",
    "\n",
    "For example, the minimum path in this tree is [10, 5, 1, -1], which has sum 15.\n"
   ]
  },
  {
   "cell_type": "raw",
   "metadata": {},
   "source": [
    "  10\n",
    " /  \\\n",
    "5    5\n",
    " \\     \\\n",
    "   2    1\n",
    "       /\n",
    "     -1"
   ]
  },
  {
   "cell_type": "code",
   "execution_count": 16,
   "metadata": {},
   "outputs": [],
   "source": [
    "def minimum_path(tree):\n",
    "    \n",
    "    #Initialize the left and right branch globally and set them to None\n",
    "    global left_branch\n",
    "    global right_branch\n",
    "    left_branch = None\n",
    "    right_branch = None\n",
    "    return _minimum_path(tree, 0)\n",
    "\n",
    "def _minimum_path(tree, sum):\n",
    "    \n",
    "    # When you get to base case (i.e a leaf) return the sum\n",
    "    if tree.lbranch is None and tree.rbranch is None:\n",
    "        return sum + tree.value\n",
    "    \n",
    "    # For each node call the left and right branches recursively and set them to the left_branch and right_branch...\n",
    "    # respectively, if they are not None\n",
    "    if tree.lbranch is not None:\n",
    "        left_branch = _minimum_path(tree.lbranch, sum + tree.value)\n",
    "    if tree.rbranch is not None:\n",
    "        right_branch = _minimum_path(tree.rbranch, sum + tree.value)\n",
    "    \n",
    "    # return the minimum of the branches from a node\n",
    "    if tree.lbranch is not None and tree.rbranch is not None:\n",
    "        return min(left_branch, right_branch)\n",
    "    elif tree.lbranch is None:\n",
    "        return right_branch\n",
    "    elif tree.rbranch is None:\n",
    "        return left_branch"
   ]
  },
  {
   "cell_type": "code",
   "execution_count": 17,
   "metadata": {},
   "outputs": [
    {
     "data": {
      "text/plain": [
       "17"
      ]
     },
     "execution_count": 17,
     "metadata": {},
     "output_type": "execute_result"
    }
   ],
   "source": [
    "# TEST CODE\n",
    "\n",
    "class Node:\n",
    "    def __init__(self, value):\n",
    "        self.value = value\n",
    "        self.rbranch = None\n",
    "        self.lbranch = None\n",
    "        \n",
    "T = Node(10)\n",
    "T.lbranch = Node(5)\n",
    "T.rbranch = Node(5)\n",
    "T.lbranch.rbranch = Node(2)\n",
    "T.rbranch.rbranch = Node(4)\n",
    "T.rbranch.rbranch.lbranch = Node(7)\n",
    "\n",
    "minimum_path(T)"
   ]
  },
  {
   "cell_type": "code",
   "execution_count": null,
   "metadata": {},
   "outputs": [],
   "source": []
  }
 ],
 "metadata": {
  "kernelspec": {
   "display_name": "Python 3",
   "language": "python",
   "name": "python3"
  },
  "language_info": {
   "codemirror_mode": {
    "name": "ipython",
    "version": 3
   },
   "file_extension": ".py",
   "mimetype": "text/x-python",
   "name": "python",
   "nbconvert_exporter": "python",
   "pygments_lexer": "ipython3",
   "version": "3.6.7"
  }
 },
 "nbformat": 4,
 "nbformat_minor": 2
}
